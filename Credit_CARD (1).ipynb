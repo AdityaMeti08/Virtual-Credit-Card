{
  "nbformat": 4,
  "nbformat_minor": 0,
  "metadata": {
    "colab": {
      "provenance": []
    },
    "kernelspec": {
      "name": "python3",
      "display_name": "Python 3"
    },
    "language_info": {
      "name": "python"
    }
  },
  "cells": [
    {
      "cell_type": "code",
      "execution_count": null,
      "metadata": {
        "colab": {
          "base_uri": "https://localhost:8080/"
        },
        "id": "DK_TmHs2DJPf",
        "outputId": "8946a571-6b8f-436f-b64c-4a808ef5e909"
      },
      "outputs": [
        {
          "output_type": "stream",
          "name": "stdout",
          "text": [
            "Collecting ipython-autotime\n",
            "  Downloading ipython_autotime-0.3.2-py2.py3-none-any.whl (7.0 kB)\n",
            "Requirement already satisfied: ipython in /usr/local/lib/python3.10/dist-packages (from ipython-autotime) (7.34.0)\n",
            "Requirement already satisfied: setuptools>=18.5 in /usr/local/lib/python3.10/dist-packages (from ipython->ipython-autotime) (67.7.2)\n",
            "Collecting jedi>=0.16 (from ipython->ipython-autotime)\n",
            "  Downloading jedi-0.19.1-py2.py3-none-any.whl (1.6 MB)\n",
            "\u001b[2K     \u001b[90m━━━━━━━━━━━━━━━━━━━━━━━━━━━━━━━━━━━━━━━━\u001b[0m \u001b[32m1.6/1.6 MB\u001b[0m \u001b[31m7.6 MB/s\u001b[0m eta \u001b[36m0:00:00\u001b[0m\n",
            "\u001b[?25hRequirement already satisfied: decorator in /usr/local/lib/python3.10/dist-packages (from ipython->ipython-autotime) (4.4.2)\n",
            "Requirement already satisfied: pickleshare in /usr/local/lib/python3.10/dist-packages (from ipython->ipython-autotime) (0.7.5)\n",
            "Requirement already satisfied: traitlets>=4.2 in /usr/local/lib/python3.10/dist-packages (from ipython->ipython-autotime) (5.7.1)\n",
            "Requirement already satisfied: prompt-toolkit!=3.0.0,!=3.0.1,<3.1.0,>=2.0.0 in /usr/local/lib/python3.10/dist-packages (from ipython->ipython-autotime) (3.0.43)\n",
            "Requirement already satisfied: pygments in /usr/local/lib/python3.10/dist-packages (from ipython->ipython-autotime) (2.16.1)\n",
            "Requirement already satisfied: backcall in /usr/local/lib/python3.10/dist-packages (from ipython->ipython-autotime) (0.2.0)\n",
            "Requirement already satisfied: matplotlib-inline in /usr/local/lib/python3.10/dist-packages (from ipython->ipython-autotime) (0.1.6)\n",
            "Requirement already satisfied: pexpect>4.3 in /usr/local/lib/python3.10/dist-packages (from ipython->ipython-autotime) (4.9.0)\n",
            "Requirement already satisfied: parso<0.9.0,>=0.8.3 in /usr/local/lib/python3.10/dist-packages (from jedi>=0.16->ipython->ipython-autotime) (0.8.3)\n",
            "Requirement already satisfied: ptyprocess>=0.5 in /usr/local/lib/python3.10/dist-packages (from pexpect>4.3->ipython->ipython-autotime) (0.7.0)\n",
            "Requirement already satisfied: wcwidth in /usr/local/lib/python3.10/dist-packages (from prompt-toolkit!=3.0.0,!=3.0.1,<3.1.0,>=2.0.0->ipython->ipython-autotime) (0.2.13)\n",
            "Installing collected packages: jedi, ipython-autotime\n",
            "Successfully installed ipython-autotime-0.3.2 jedi-0.19.1\n"
          ]
        }
      ],
      "source": [
        "!pip install ipython-autotime\n"
      ]
    },
    {
      "cell_type": "code",
      "source": [
        "%load_ext autotime"
      ],
      "metadata": {
        "colab": {
          "base_uri": "https://localhost:8080/"
        },
        "id": "nGcGHuw0DsXp",
        "outputId": "bcada7ed-c27b-4844-ea1a-b3c22ca59c5b"
      },
      "execution_count": null,
      "outputs": [
        {
          "output_type": "stream",
          "name": "stdout",
          "text": [
            "time: 2.43 ms (started: 2024-01-18 10:38:57 +00:00)\n"
          ]
        }
      ]
    },
    {
      "cell_type": "code",
      "source": [
        "# connect colab notebook to drive\n",
        "from google.colab import drive\n",
        "\n",
        "# mount google drive\n",
        "drive.mount('/content/gdrive')\n",
        "\n",
        "# change directory to project's directory\n",
        "%cd /content/gdrive/My Drive/predict_credit_card_default"
      ],
      "metadata": {
        "colab": {
          "base_uri": "https://localhost:8080/"
        },
        "id": "VhjT40qTDvlX",
        "outputId": "3517b610-ef38-4347-91c6-9869e05d5286"
      },
      "execution_count": null,
      "outputs": [
        {
          "output_type": "stream",
          "name": "stdout",
          "text": [
            "Mounted at /content/gdrive\n",
            "[Errno 2] No such file or directory: '/content/gdrive/My Drive/predict_credit_card_default'\n",
            "/content\n",
            "time: 22.7 s (started: 2024-01-18 10:39:00 +00:00)\n"
          ]
        }
      ]
    },
    {
      "cell_type": "code",
      "source": [
        "# import libraries\n",
        "import pandas as pd\n",
        "import matplotlib.pyplot as plt\n",
        "import numpy as np\n",
        "\n",
        "# load the dataset\n",
        "data = pd.read_excel('data.xlsx', header = 1)\n",
        "\n",
        "# check\n",
        "data.tail()\n"
      ],
      "metadata": {
        "colab": {
          "base_uri": "https://localhost:8080/",
          "height": 326
        },
        "id": "zUy4drXiD251",
        "outputId": "ade25063-ad1b-4c3a-bec6-ecece95b3061"
      },
      "execution_count": null,
      "outputs": [
        {
          "output_type": "execute_result",
          "data": {
            "text/plain": [
              "          ID  LIMIT_BAL  SEX  EDUCATION  MARRIAGE  AGE  PAY_0  PAY_2  PAY_3  \\\n",
              "29995  29996     220000    1          3         1   39      0      0      0   \n",
              "29996  29997     150000    1          3         2   43     -1     -1     -1   \n",
              "29997  29998      30000    1          2         2   37      4      3      2   \n",
              "29998  29999      80000    1          3         1   41      1     -1      0   \n",
              "29999  30000      50000    1          2         1   46      0      0      0   \n",
              "\n",
              "       PAY_4  ...  BILL_AMT4  BILL_AMT5  BILL_AMT6  PAY_AMT1  PAY_AMT2  \\\n",
              "29995      0  ...      88004      31237      15980      8500     20000   \n",
              "29996     -1  ...       8979       5190          0      1837      3526   \n",
              "29997     -1  ...      20878      20582      19357         0         0   \n",
              "29998      0  ...      52774      11855      48944     85900      3409   \n",
              "29999      0  ...      36535      32428      15313      2078      1800   \n",
              "\n",
              "       PAY_AMT3  PAY_AMT4  PAY_AMT5  PAY_AMT6  default payment next month  \n",
              "29995      5003      3047      5000      1000                           0  \n",
              "29996      8998       129         0         0                           0  \n",
              "29997     22000      4200      2000      3100                           1  \n",
              "29998      1178      1926     52964      1804                           1  \n",
              "29999      1430      1000      1000      1000                           1  \n",
              "\n",
              "[5 rows x 25 columns]"
            ],
            "text/html": [
              "\n",
              "  <div id=\"df-3804c156-bbc9-4091-946b-48514b359a66\" class=\"colab-df-container\">\n",
              "    <div>\n",
              "<style scoped>\n",
              "    .dataframe tbody tr th:only-of-type {\n",
              "        vertical-align: middle;\n",
              "    }\n",
              "\n",
              "    .dataframe tbody tr th {\n",
              "        vertical-align: top;\n",
              "    }\n",
              "\n",
              "    .dataframe thead th {\n",
              "        text-align: right;\n",
              "    }\n",
              "</style>\n",
              "<table border=\"1\" class=\"dataframe\">\n",
              "  <thead>\n",
              "    <tr style=\"text-align: right;\">\n",
              "      <th></th>\n",
              "      <th>ID</th>\n",
              "      <th>LIMIT_BAL</th>\n",
              "      <th>SEX</th>\n",
              "      <th>EDUCATION</th>\n",
              "      <th>MARRIAGE</th>\n",
              "      <th>AGE</th>\n",
              "      <th>PAY_0</th>\n",
              "      <th>PAY_2</th>\n",
              "      <th>PAY_3</th>\n",
              "      <th>PAY_4</th>\n",
              "      <th>...</th>\n",
              "      <th>BILL_AMT4</th>\n",
              "      <th>BILL_AMT5</th>\n",
              "      <th>BILL_AMT6</th>\n",
              "      <th>PAY_AMT1</th>\n",
              "      <th>PAY_AMT2</th>\n",
              "      <th>PAY_AMT3</th>\n",
              "      <th>PAY_AMT4</th>\n",
              "      <th>PAY_AMT5</th>\n",
              "      <th>PAY_AMT6</th>\n",
              "      <th>default payment next month</th>\n",
              "    </tr>\n",
              "  </thead>\n",
              "  <tbody>\n",
              "    <tr>\n",
              "      <th>29995</th>\n",
              "      <td>29996</td>\n",
              "      <td>220000</td>\n",
              "      <td>1</td>\n",
              "      <td>3</td>\n",
              "      <td>1</td>\n",
              "      <td>39</td>\n",
              "      <td>0</td>\n",
              "      <td>0</td>\n",
              "      <td>0</td>\n",
              "      <td>0</td>\n",
              "      <td>...</td>\n",
              "      <td>88004</td>\n",
              "      <td>31237</td>\n",
              "      <td>15980</td>\n",
              "      <td>8500</td>\n",
              "      <td>20000</td>\n",
              "      <td>5003</td>\n",
              "      <td>3047</td>\n",
              "      <td>5000</td>\n",
              "      <td>1000</td>\n",
              "      <td>0</td>\n",
              "    </tr>\n",
              "    <tr>\n",
              "      <th>29996</th>\n",
              "      <td>29997</td>\n",
              "      <td>150000</td>\n",
              "      <td>1</td>\n",
              "      <td>3</td>\n",
              "      <td>2</td>\n",
              "      <td>43</td>\n",
              "      <td>-1</td>\n",
              "      <td>-1</td>\n",
              "      <td>-1</td>\n",
              "      <td>-1</td>\n",
              "      <td>...</td>\n",
              "      <td>8979</td>\n",
              "      <td>5190</td>\n",
              "      <td>0</td>\n",
              "      <td>1837</td>\n",
              "      <td>3526</td>\n",
              "      <td>8998</td>\n",
              "      <td>129</td>\n",
              "      <td>0</td>\n",
              "      <td>0</td>\n",
              "      <td>0</td>\n",
              "    </tr>\n",
              "    <tr>\n",
              "      <th>29997</th>\n",
              "      <td>29998</td>\n",
              "      <td>30000</td>\n",
              "      <td>1</td>\n",
              "      <td>2</td>\n",
              "      <td>2</td>\n",
              "      <td>37</td>\n",
              "      <td>4</td>\n",
              "      <td>3</td>\n",
              "      <td>2</td>\n",
              "      <td>-1</td>\n",
              "      <td>...</td>\n",
              "      <td>20878</td>\n",
              "      <td>20582</td>\n",
              "      <td>19357</td>\n",
              "      <td>0</td>\n",
              "      <td>0</td>\n",
              "      <td>22000</td>\n",
              "      <td>4200</td>\n",
              "      <td>2000</td>\n",
              "      <td>3100</td>\n",
              "      <td>1</td>\n",
              "    </tr>\n",
              "    <tr>\n",
              "      <th>29998</th>\n",
              "      <td>29999</td>\n",
              "      <td>80000</td>\n",
              "      <td>1</td>\n",
              "      <td>3</td>\n",
              "      <td>1</td>\n",
              "      <td>41</td>\n",
              "      <td>1</td>\n",
              "      <td>-1</td>\n",
              "      <td>0</td>\n",
              "      <td>0</td>\n",
              "      <td>...</td>\n",
              "      <td>52774</td>\n",
              "      <td>11855</td>\n",
              "      <td>48944</td>\n",
              "      <td>85900</td>\n",
              "      <td>3409</td>\n",
              "      <td>1178</td>\n",
              "      <td>1926</td>\n",
              "      <td>52964</td>\n",
              "      <td>1804</td>\n",
              "      <td>1</td>\n",
              "    </tr>\n",
              "    <tr>\n",
              "      <th>29999</th>\n",
              "      <td>30000</td>\n",
              "      <td>50000</td>\n",
              "      <td>1</td>\n",
              "      <td>2</td>\n",
              "      <td>1</td>\n",
              "      <td>46</td>\n",
              "      <td>0</td>\n",
              "      <td>0</td>\n",
              "      <td>0</td>\n",
              "      <td>0</td>\n",
              "      <td>...</td>\n",
              "      <td>36535</td>\n",
              "      <td>32428</td>\n",
              "      <td>15313</td>\n",
              "      <td>2078</td>\n",
              "      <td>1800</td>\n",
              "      <td>1430</td>\n",
              "      <td>1000</td>\n",
              "      <td>1000</td>\n",
              "      <td>1000</td>\n",
              "      <td>1</td>\n",
              "    </tr>\n",
              "  </tbody>\n",
              "</table>\n",
              "<p>5 rows × 25 columns</p>\n",
              "</div>\n",
              "    <div class=\"colab-df-buttons\">\n",
              "\n",
              "  <div class=\"colab-df-container\">\n",
              "    <button class=\"colab-df-convert\" onclick=\"convertToInteractive('df-3804c156-bbc9-4091-946b-48514b359a66')\"\n",
              "            title=\"Convert this dataframe to an interactive table.\"\n",
              "            style=\"display:none;\">\n",
              "\n",
              "  <svg xmlns=\"http://www.w3.org/2000/svg\" height=\"24px\" viewBox=\"0 -960 960 960\">\n",
              "    <path d=\"M120-120v-720h720v720H120Zm60-500h600v-160H180v160Zm220 220h160v-160H400v160Zm0 220h160v-160H400v160ZM180-400h160v-160H180v160Zm440 0h160v-160H620v160ZM180-180h160v-160H180v160Zm440 0h160v-160H620v160Z\"/>\n",
              "  </svg>\n",
              "    </button>\n",
              "\n",
              "  <style>\n",
              "    .colab-df-container {\n",
              "      display:flex;\n",
              "      gap: 12px;\n",
              "    }\n",
              "\n",
              "    .colab-df-convert {\n",
              "      background-color: #E8F0FE;\n",
              "      border: none;\n",
              "      border-radius: 50%;\n",
              "      cursor: pointer;\n",
              "      display: none;\n",
              "      fill: #1967D2;\n",
              "      height: 32px;\n",
              "      padding: 0 0 0 0;\n",
              "      width: 32px;\n",
              "    }\n",
              "\n",
              "    .colab-df-convert:hover {\n",
              "      background-color: #E2EBFA;\n",
              "      box-shadow: 0px 1px 2px rgba(60, 64, 67, 0.3), 0px 1px 3px 1px rgba(60, 64, 67, 0.15);\n",
              "      fill: #174EA6;\n",
              "    }\n",
              "\n",
              "    .colab-df-buttons div {\n",
              "      margin-bottom: 4px;\n",
              "    }\n",
              "\n",
              "    [theme=dark] .colab-df-convert {\n",
              "      background-color: #3B4455;\n",
              "      fill: #D2E3FC;\n",
              "    }\n",
              "\n",
              "    [theme=dark] .colab-df-convert:hover {\n",
              "      background-color: #434B5C;\n",
              "      box-shadow: 0px 1px 3px 1px rgba(0, 0, 0, 0.15);\n",
              "      filter: drop-shadow(0px 1px 2px rgba(0, 0, 0, 0.3));\n",
              "      fill: #FFFFFF;\n",
              "    }\n",
              "  </style>\n",
              "\n",
              "    <script>\n",
              "      const buttonEl =\n",
              "        document.querySelector('#df-3804c156-bbc9-4091-946b-48514b359a66 button.colab-df-convert');\n",
              "      buttonEl.style.display =\n",
              "        google.colab.kernel.accessAllowed ? 'block' : 'none';\n",
              "\n",
              "      async function convertToInteractive(key) {\n",
              "        const element = document.querySelector('#df-3804c156-bbc9-4091-946b-48514b359a66');\n",
              "        const dataTable =\n",
              "          await google.colab.kernel.invokeFunction('convertToInteractive',\n",
              "                                                    [key], {});\n",
              "        if (!dataTable) return;\n",
              "\n",
              "        const docLinkHtml = 'Like what you see? Visit the ' +\n",
              "          '<a target=\"_blank\" href=https://colab.research.google.com/notebooks/data_table.ipynb>data table notebook</a>'\n",
              "          + ' to learn more about interactive tables.';\n",
              "        element.innerHTML = '';\n",
              "        dataTable['output_type'] = 'display_data';\n",
              "        await google.colab.output.renderOutput(dataTable, element);\n",
              "        const docLink = document.createElement('div');\n",
              "        docLink.innerHTML = docLinkHtml;\n",
              "        element.appendChild(docLink);\n",
              "      }\n",
              "    </script>\n",
              "  </div>\n",
              "\n",
              "\n",
              "<div id=\"df-ea9e8b29-8c13-4af1-a07e-e60efd00b2f9\">\n",
              "  <button class=\"colab-df-quickchart\" onclick=\"quickchart('df-ea9e8b29-8c13-4af1-a07e-e60efd00b2f9')\"\n",
              "            title=\"Suggest charts\"\n",
              "            style=\"display:none;\">\n",
              "\n",
              "<svg xmlns=\"http://www.w3.org/2000/svg\" height=\"24px\"viewBox=\"0 0 24 24\"\n",
              "     width=\"24px\">\n",
              "    <g>\n",
              "        <path d=\"M19 3H5c-1.1 0-2 .9-2 2v14c0 1.1.9 2 2 2h14c1.1 0 2-.9 2-2V5c0-1.1-.9-2-2-2zM9 17H7v-7h2v7zm4 0h-2V7h2v10zm4 0h-2v-4h2v4z\"/>\n",
              "    </g>\n",
              "</svg>\n",
              "  </button>\n",
              "\n",
              "<style>\n",
              "  .colab-df-quickchart {\n",
              "      --bg-color: #E8F0FE;\n",
              "      --fill-color: #1967D2;\n",
              "      --hover-bg-color: #E2EBFA;\n",
              "      --hover-fill-color: #174EA6;\n",
              "      --disabled-fill-color: #AAA;\n",
              "      --disabled-bg-color: #DDD;\n",
              "  }\n",
              "\n",
              "  [theme=dark] .colab-df-quickchart {\n",
              "      --bg-color: #3B4455;\n",
              "      --fill-color: #D2E3FC;\n",
              "      --hover-bg-color: #434B5C;\n",
              "      --hover-fill-color: #FFFFFF;\n",
              "      --disabled-bg-color: #3B4455;\n",
              "      --disabled-fill-color: #666;\n",
              "  }\n",
              "\n",
              "  .colab-df-quickchart {\n",
              "    background-color: var(--bg-color);\n",
              "    border: none;\n",
              "    border-radius: 50%;\n",
              "    cursor: pointer;\n",
              "    display: none;\n",
              "    fill: var(--fill-color);\n",
              "    height: 32px;\n",
              "    padding: 0;\n",
              "    width: 32px;\n",
              "  }\n",
              "\n",
              "  .colab-df-quickchart:hover {\n",
              "    background-color: var(--hover-bg-color);\n",
              "    box-shadow: 0 1px 2px rgba(60, 64, 67, 0.3), 0 1px 3px 1px rgba(60, 64, 67, 0.15);\n",
              "    fill: var(--button-hover-fill-color);\n",
              "  }\n",
              "\n",
              "  .colab-df-quickchart-complete:disabled,\n",
              "  .colab-df-quickchart-complete:disabled:hover {\n",
              "    background-color: var(--disabled-bg-color);\n",
              "    fill: var(--disabled-fill-color);\n",
              "    box-shadow: none;\n",
              "  }\n",
              "\n",
              "  .colab-df-spinner {\n",
              "    border: 2px solid var(--fill-color);\n",
              "    border-color: transparent;\n",
              "    border-bottom-color: var(--fill-color);\n",
              "    animation:\n",
              "      spin 1s steps(1) infinite;\n",
              "  }\n",
              "\n",
              "  @keyframes spin {\n",
              "    0% {\n",
              "      border-color: transparent;\n",
              "      border-bottom-color: var(--fill-color);\n",
              "      border-left-color: var(--fill-color);\n",
              "    }\n",
              "    20% {\n",
              "      border-color: transparent;\n",
              "      border-left-color: var(--fill-color);\n",
              "      border-top-color: var(--fill-color);\n",
              "    }\n",
              "    30% {\n",
              "      border-color: transparent;\n",
              "      border-left-color: var(--fill-color);\n",
              "      border-top-color: var(--fill-color);\n",
              "      border-right-color: var(--fill-color);\n",
              "    }\n",
              "    40% {\n",
              "      border-color: transparent;\n",
              "      border-right-color: var(--fill-color);\n",
              "      border-top-color: var(--fill-color);\n",
              "    }\n",
              "    60% {\n",
              "      border-color: transparent;\n",
              "      border-right-color: var(--fill-color);\n",
              "    }\n",
              "    80% {\n",
              "      border-color: transparent;\n",
              "      border-right-color: var(--fill-color);\n",
              "      border-bottom-color: var(--fill-color);\n",
              "    }\n",
              "    90% {\n",
              "      border-color: transparent;\n",
              "      border-bottom-color: var(--fill-color);\n",
              "    }\n",
              "  }\n",
              "</style>\n",
              "\n",
              "  <script>\n",
              "    async function quickchart(key) {\n",
              "      const quickchartButtonEl =\n",
              "        document.querySelector('#' + key + ' button');\n",
              "      quickchartButtonEl.disabled = true;  // To prevent multiple clicks.\n",
              "      quickchartButtonEl.classList.add('colab-df-spinner');\n",
              "      try {\n",
              "        const charts = await google.colab.kernel.invokeFunction(\n",
              "            'suggestCharts', [key], {});\n",
              "      } catch (error) {\n",
              "        console.error('Error during call to suggestCharts:', error);\n",
              "      }\n",
              "      quickchartButtonEl.classList.remove('colab-df-spinner');\n",
              "      quickchartButtonEl.classList.add('colab-df-quickchart-complete');\n",
              "    }\n",
              "    (() => {\n",
              "      let quickchartButtonEl =\n",
              "        document.querySelector('#df-ea9e8b29-8c13-4af1-a07e-e60efd00b2f9 button');\n",
              "      quickchartButtonEl.style.display =\n",
              "        google.colab.kernel.accessAllowed ? 'block' : 'none';\n",
              "    })();\n",
              "  </script>\n",
              "</div>\n",
              "\n",
              "    </div>\n",
              "  </div>\n"
            ]
          },
          "metadata": {},
          "execution_count": 7
        },
        {
          "output_type": "stream",
          "name": "stdout",
          "text": [
            "time: 6.93 s (started: 2024-01-18 11:26:42 +00:00)\n"
          ]
        }
      ]
    },
    {
      "cell_type": "code",
      "source": [
        "# rename PAY_0 and default.payment.next.month columns\n",
        "data.rename(columns={'PAY_0': 'PAY_1',\n",
        "                     'default payment next month': 'default'},\n",
        "            inplace = True)\n",
        "\n",
        "# check\n",
        "data.head()\n"
      ],
      "metadata": {
        "colab": {
          "base_uri": "https://localhost:8080/",
          "height": 274
        },
        "id": "XPq9T2-7EVZm",
        "outputId": "d2656926-618d-4ef9-98cb-3b3f4728da3e"
      },
      "execution_count": null,
      "outputs": [
        {
          "output_type": "execute_result",
          "data": {
            "text/plain": [
              "   ID  LIMIT_BAL  SEX  EDUCATION  MARRIAGE  AGE  PAY_1  PAY_2  PAY_3  PAY_4  \\\n",
              "0   1      20000    2          2         1   24      2      2     -1     -1   \n",
              "1   2     120000    2          2         2   26     -1      2      0      0   \n",
              "2   3      90000    2          2         2   34      0      0      0      0   \n",
              "3   4      50000    2          2         1   37      0      0      0      0   \n",
              "4   5      50000    1          2         1   57     -1      0     -1      0   \n",
              "\n",
              "   ...  BILL_AMT4  BILL_AMT5  BILL_AMT6  PAY_AMT1  PAY_AMT2  PAY_AMT3  \\\n",
              "0  ...          0          0          0         0       689         0   \n",
              "1  ...       3272       3455       3261         0      1000      1000   \n",
              "2  ...      14331      14948      15549      1518      1500      1000   \n",
              "3  ...      28314      28959      29547      2000      2019      1200   \n",
              "4  ...      20940      19146      19131      2000     36681     10000   \n",
              "\n",
              "   PAY_AMT4  PAY_AMT5  PAY_AMT6  default  \n",
              "0         0         0         0        1  \n",
              "1      1000         0      2000        1  \n",
              "2      1000      1000      5000        0  \n",
              "3      1100      1069      1000        0  \n",
              "4      9000       689       679        0  \n",
              "\n",
              "[5 rows x 25 columns]"
            ],
            "text/html": [
              "\n",
              "  <div id=\"df-97c50b55-45f6-44d4-9a53-f5777148e9cd\" class=\"colab-df-container\">\n",
              "    <div>\n",
              "<style scoped>\n",
              "    .dataframe tbody tr th:only-of-type {\n",
              "        vertical-align: middle;\n",
              "    }\n",
              "\n",
              "    .dataframe tbody tr th {\n",
              "        vertical-align: top;\n",
              "    }\n",
              "\n",
              "    .dataframe thead th {\n",
              "        text-align: right;\n",
              "    }\n",
              "</style>\n",
              "<table border=\"1\" class=\"dataframe\">\n",
              "  <thead>\n",
              "    <tr style=\"text-align: right;\">\n",
              "      <th></th>\n",
              "      <th>ID</th>\n",
              "      <th>LIMIT_BAL</th>\n",
              "      <th>SEX</th>\n",
              "      <th>EDUCATION</th>\n",
              "      <th>MARRIAGE</th>\n",
              "      <th>AGE</th>\n",
              "      <th>PAY_1</th>\n",
              "      <th>PAY_2</th>\n",
              "      <th>PAY_3</th>\n",
              "      <th>PAY_4</th>\n",
              "      <th>...</th>\n",
              "      <th>BILL_AMT4</th>\n",
              "      <th>BILL_AMT5</th>\n",
              "      <th>BILL_AMT6</th>\n",
              "      <th>PAY_AMT1</th>\n",
              "      <th>PAY_AMT2</th>\n",
              "      <th>PAY_AMT3</th>\n",
              "      <th>PAY_AMT4</th>\n",
              "      <th>PAY_AMT5</th>\n",
              "      <th>PAY_AMT6</th>\n",
              "      <th>default</th>\n",
              "    </tr>\n",
              "  </thead>\n",
              "  <tbody>\n",
              "    <tr>\n",
              "      <th>0</th>\n",
              "      <td>1</td>\n",
              "      <td>20000</td>\n",
              "      <td>2</td>\n",
              "      <td>2</td>\n",
              "      <td>1</td>\n",
              "      <td>24</td>\n",
              "      <td>2</td>\n",
              "      <td>2</td>\n",
              "      <td>-1</td>\n",
              "      <td>-1</td>\n",
              "      <td>...</td>\n",
              "      <td>0</td>\n",
              "      <td>0</td>\n",
              "      <td>0</td>\n",
              "      <td>0</td>\n",
              "      <td>689</td>\n",
              "      <td>0</td>\n",
              "      <td>0</td>\n",
              "      <td>0</td>\n",
              "      <td>0</td>\n",
              "      <td>1</td>\n",
              "    </tr>\n",
              "    <tr>\n",
              "      <th>1</th>\n",
              "      <td>2</td>\n",
              "      <td>120000</td>\n",
              "      <td>2</td>\n",
              "      <td>2</td>\n",
              "      <td>2</td>\n",
              "      <td>26</td>\n",
              "      <td>-1</td>\n",
              "      <td>2</td>\n",
              "      <td>0</td>\n",
              "      <td>0</td>\n",
              "      <td>...</td>\n",
              "      <td>3272</td>\n",
              "      <td>3455</td>\n",
              "      <td>3261</td>\n",
              "      <td>0</td>\n",
              "      <td>1000</td>\n",
              "      <td>1000</td>\n",
              "      <td>1000</td>\n",
              "      <td>0</td>\n",
              "      <td>2000</td>\n",
              "      <td>1</td>\n",
              "    </tr>\n",
              "    <tr>\n",
              "      <th>2</th>\n",
              "      <td>3</td>\n",
              "      <td>90000</td>\n",
              "      <td>2</td>\n",
              "      <td>2</td>\n",
              "      <td>2</td>\n",
              "      <td>34</td>\n",
              "      <td>0</td>\n",
              "      <td>0</td>\n",
              "      <td>0</td>\n",
              "      <td>0</td>\n",
              "      <td>...</td>\n",
              "      <td>14331</td>\n",
              "      <td>14948</td>\n",
              "      <td>15549</td>\n",
              "      <td>1518</td>\n",
              "      <td>1500</td>\n",
              "      <td>1000</td>\n",
              "      <td>1000</td>\n",
              "      <td>1000</td>\n",
              "      <td>5000</td>\n",
              "      <td>0</td>\n",
              "    </tr>\n",
              "    <tr>\n",
              "      <th>3</th>\n",
              "      <td>4</td>\n",
              "      <td>50000</td>\n",
              "      <td>2</td>\n",
              "      <td>2</td>\n",
              "      <td>1</td>\n",
              "      <td>37</td>\n",
              "      <td>0</td>\n",
              "      <td>0</td>\n",
              "      <td>0</td>\n",
              "      <td>0</td>\n",
              "      <td>...</td>\n",
              "      <td>28314</td>\n",
              "      <td>28959</td>\n",
              "      <td>29547</td>\n",
              "      <td>2000</td>\n",
              "      <td>2019</td>\n",
              "      <td>1200</td>\n",
              "      <td>1100</td>\n",
              "      <td>1069</td>\n",
              "      <td>1000</td>\n",
              "      <td>0</td>\n",
              "    </tr>\n",
              "    <tr>\n",
              "      <th>4</th>\n",
              "      <td>5</td>\n",
              "      <td>50000</td>\n",
              "      <td>1</td>\n",
              "      <td>2</td>\n",
              "      <td>1</td>\n",
              "      <td>57</td>\n",
              "      <td>-1</td>\n",
              "      <td>0</td>\n",
              "      <td>-1</td>\n",
              "      <td>0</td>\n",
              "      <td>...</td>\n",
              "      <td>20940</td>\n",
              "      <td>19146</td>\n",
              "      <td>19131</td>\n",
              "      <td>2000</td>\n",
              "      <td>36681</td>\n",
              "      <td>10000</td>\n",
              "      <td>9000</td>\n",
              "      <td>689</td>\n",
              "      <td>679</td>\n",
              "      <td>0</td>\n",
              "    </tr>\n",
              "  </tbody>\n",
              "</table>\n",
              "<p>5 rows × 25 columns</p>\n",
              "</div>\n",
              "    <div class=\"colab-df-buttons\">\n",
              "\n",
              "  <div class=\"colab-df-container\">\n",
              "    <button class=\"colab-df-convert\" onclick=\"convertToInteractive('df-97c50b55-45f6-44d4-9a53-f5777148e9cd')\"\n",
              "            title=\"Convert this dataframe to an interactive table.\"\n",
              "            style=\"display:none;\">\n",
              "\n",
              "  <svg xmlns=\"http://www.w3.org/2000/svg\" height=\"24px\" viewBox=\"0 -960 960 960\">\n",
              "    <path d=\"M120-120v-720h720v720H120Zm60-500h600v-160H180v160Zm220 220h160v-160H400v160Zm0 220h160v-160H400v160ZM180-400h160v-160H180v160Zm440 0h160v-160H620v160ZM180-180h160v-160H180v160Zm440 0h160v-160H620v160Z\"/>\n",
              "  </svg>\n",
              "    </button>\n",
              "\n",
              "  <style>\n",
              "    .colab-df-container {\n",
              "      display:flex;\n",
              "      gap: 12px;\n",
              "    }\n",
              "\n",
              "    .colab-df-convert {\n",
              "      background-color: #E8F0FE;\n",
              "      border: none;\n",
              "      border-radius: 50%;\n",
              "      cursor: pointer;\n",
              "      display: none;\n",
              "      fill: #1967D2;\n",
              "      height: 32px;\n",
              "      padding: 0 0 0 0;\n",
              "      width: 32px;\n",
              "    }\n",
              "\n",
              "    .colab-df-convert:hover {\n",
              "      background-color: #E2EBFA;\n",
              "      box-shadow: 0px 1px 2px rgba(60, 64, 67, 0.3), 0px 1px 3px 1px rgba(60, 64, 67, 0.15);\n",
              "      fill: #174EA6;\n",
              "    }\n",
              "\n",
              "    .colab-df-buttons div {\n",
              "      margin-bottom: 4px;\n",
              "    }\n",
              "\n",
              "    [theme=dark] .colab-df-convert {\n",
              "      background-color: #3B4455;\n",
              "      fill: #D2E3FC;\n",
              "    }\n",
              "\n",
              "    [theme=dark] .colab-df-convert:hover {\n",
              "      background-color: #434B5C;\n",
              "      box-shadow: 0px 1px 3px 1px rgba(0, 0, 0, 0.15);\n",
              "      filter: drop-shadow(0px 1px 2px rgba(0, 0, 0, 0.3));\n",
              "      fill: #FFFFFF;\n",
              "    }\n",
              "  </style>\n",
              "\n",
              "    <script>\n",
              "      const buttonEl =\n",
              "        document.querySelector('#df-97c50b55-45f6-44d4-9a53-f5777148e9cd button.colab-df-convert');\n",
              "      buttonEl.style.display =\n",
              "        google.colab.kernel.accessAllowed ? 'block' : 'none';\n",
              "\n",
              "      async function convertToInteractive(key) {\n",
              "        const element = document.querySelector('#df-97c50b55-45f6-44d4-9a53-f5777148e9cd');\n",
              "        const dataTable =\n",
              "          await google.colab.kernel.invokeFunction('convertToInteractive',\n",
              "                                                    [key], {});\n",
              "        if (!dataTable) return;\n",
              "\n",
              "        const docLinkHtml = 'Like what you see? Visit the ' +\n",
              "          '<a target=\"_blank\" href=https://colab.research.google.com/notebooks/data_table.ipynb>data table notebook</a>'\n",
              "          + ' to learn more about interactive tables.';\n",
              "        element.innerHTML = '';\n",
              "        dataTable['output_type'] = 'display_data';\n",
              "        await google.colab.output.renderOutput(dataTable, element);\n",
              "        const docLink = document.createElement('div');\n",
              "        docLink.innerHTML = docLinkHtml;\n",
              "        element.appendChild(docLink);\n",
              "      }\n",
              "    </script>\n",
              "  </div>\n",
              "\n",
              "\n",
              "<div id=\"df-7b1a6dfd-e0aa-478a-84f9-22c1cb944d97\">\n",
              "  <button class=\"colab-df-quickchart\" onclick=\"quickchart('df-7b1a6dfd-e0aa-478a-84f9-22c1cb944d97')\"\n",
              "            title=\"Suggest charts\"\n",
              "            style=\"display:none;\">\n",
              "\n",
              "<svg xmlns=\"http://www.w3.org/2000/svg\" height=\"24px\"viewBox=\"0 0 24 24\"\n",
              "     width=\"24px\">\n",
              "    <g>\n",
              "        <path d=\"M19 3H5c-1.1 0-2 .9-2 2v14c0 1.1.9 2 2 2h14c1.1 0 2-.9 2-2V5c0-1.1-.9-2-2-2zM9 17H7v-7h2v7zm4 0h-2V7h2v10zm4 0h-2v-4h2v4z\"/>\n",
              "    </g>\n",
              "</svg>\n",
              "  </button>\n",
              "\n",
              "<style>\n",
              "  .colab-df-quickchart {\n",
              "      --bg-color: #E8F0FE;\n",
              "      --fill-color: #1967D2;\n",
              "      --hover-bg-color: #E2EBFA;\n",
              "      --hover-fill-color: #174EA6;\n",
              "      --disabled-fill-color: #AAA;\n",
              "      --disabled-bg-color: #DDD;\n",
              "  }\n",
              "\n",
              "  [theme=dark] .colab-df-quickchart {\n",
              "      --bg-color: #3B4455;\n",
              "      --fill-color: #D2E3FC;\n",
              "      --hover-bg-color: #434B5C;\n",
              "      --hover-fill-color: #FFFFFF;\n",
              "      --disabled-bg-color: #3B4455;\n",
              "      --disabled-fill-color: #666;\n",
              "  }\n",
              "\n",
              "  .colab-df-quickchart {\n",
              "    background-color: var(--bg-color);\n",
              "    border: none;\n",
              "    border-radius: 50%;\n",
              "    cursor: pointer;\n",
              "    display: none;\n",
              "    fill: var(--fill-color);\n",
              "    height: 32px;\n",
              "    padding: 0;\n",
              "    width: 32px;\n",
              "  }\n",
              "\n",
              "  .colab-df-quickchart:hover {\n",
              "    background-color: var(--hover-bg-color);\n",
              "    box-shadow: 0 1px 2px rgba(60, 64, 67, 0.3), 0 1px 3px 1px rgba(60, 64, 67, 0.15);\n",
              "    fill: var(--button-hover-fill-color);\n",
              "  }\n",
              "\n",
              "  .colab-df-quickchart-complete:disabled,\n",
              "  .colab-df-quickchart-complete:disabled:hover {\n",
              "    background-color: var(--disabled-bg-color);\n",
              "    fill: var(--disabled-fill-color);\n",
              "    box-shadow: none;\n",
              "  }\n",
              "\n",
              "  .colab-df-spinner {\n",
              "    border: 2px solid var(--fill-color);\n",
              "    border-color: transparent;\n",
              "    border-bottom-color: var(--fill-color);\n",
              "    animation:\n",
              "      spin 1s steps(1) infinite;\n",
              "  }\n",
              "\n",
              "  @keyframes spin {\n",
              "    0% {\n",
              "      border-color: transparent;\n",
              "      border-bottom-color: var(--fill-color);\n",
              "      border-left-color: var(--fill-color);\n",
              "    }\n",
              "    20% {\n",
              "      border-color: transparent;\n",
              "      border-left-color: var(--fill-color);\n",
              "      border-top-color: var(--fill-color);\n",
              "    }\n",
              "    30% {\n",
              "      border-color: transparent;\n",
              "      border-left-color: var(--fill-color);\n",
              "      border-top-color: var(--fill-color);\n",
              "      border-right-color: var(--fill-color);\n",
              "    }\n",
              "    40% {\n",
              "      border-color: transparent;\n",
              "      border-right-color: var(--fill-color);\n",
              "      border-top-color: var(--fill-color);\n",
              "    }\n",
              "    60% {\n",
              "      border-color: transparent;\n",
              "      border-right-color: var(--fill-color);\n",
              "    }\n",
              "    80% {\n",
              "      border-color: transparent;\n",
              "      border-right-color: var(--fill-color);\n",
              "      border-bottom-color: var(--fill-color);\n",
              "    }\n",
              "    90% {\n",
              "      border-color: transparent;\n",
              "      border-bottom-color: var(--fill-color);\n",
              "    }\n",
              "  }\n",
              "</style>\n",
              "\n",
              "  <script>\n",
              "    async function quickchart(key) {\n",
              "      const quickchartButtonEl =\n",
              "        document.querySelector('#' + key + ' button');\n",
              "      quickchartButtonEl.disabled = true;  // To prevent multiple clicks.\n",
              "      quickchartButtonEl.classList.add('colab-df-spinner');\n",
              "      try {\n",
              "        const charts = await google.colab.kernel.invokeFunction(\n",
              "            'suggestCharts', [key], {});\n",
              "      } catch (error) {\n",
              "        console.error('Error during call to suggestCharts:', error);\n",
              "      }\n",
              "      quickchartButtonEl.classList.remove('colab-df-spinner');\n",
              "      quickchartButtonEl.classList.add('colab-df-quickchart-complete');\n",
              "    }\n",
              "    (() => {\n",
              "      let quickchartButtonEl =\n",
              "        document.querySelector('#df-7b1a6dfd-e0aa-478a-84f9-22c1cb944d97 button');\n",
              "      quickchartButtonEl.style.display =\n",
              "        google.colab.kernel.accessAllowed ? 'block' : 'none';\n",
              "    })();\n",
              "  </script>\n",
              "</div>\n",
              "\n",
              "    </div>\n",
              "  </div>\n"
            ]
          },
          "metadata": {},
          "execution_count": 8
        },
        {
          "output_type": "stream",
          "name": "stdout",
          "text": [
            "time: 12.7 ms (started: 2024-01-18 11:26:53 +00:00)\n"
          ]
        }
      ]
    },
    {
      "cell_type": "code",
      "source": [
        "# Check for missing values in the dataset\n",
        "data.isnull().sum()\n"
      ],
      "metadata": {
        "colab": {
          "base_uri": "https://localhost:8080/"
        },
        "id": "_ozbNWmjEW9p",
        "outputId": "6e708a40-514d-403f-f861-269a681495e4"
      },
      "execution_count": null,
      "outputs": [
        {
          "output_type": "execute_result",
          "data": {
            "text/plain": [
              "ID           0\n",
              "LIMIT_BAL    0\n",
              "SEX          0\n",
              "EDUCATION    0\n",
              "MARRIAGE     0\n",
              "AGE          0\n",
              "PAY_1        0\n",
              "PAY_2        0\n",
              "PAY_3        0\n",
              "PAY_4        0\n",
              "PAY_5        0\n",
              "PAY_6        0\n",
              "BILL_AMT1    0\n",
              "BILL_AMT2    0\n",
              "BILL_AMT3    0\n",
              "BILL_AMT4    0\n",
              "BILL_AMT5    0\n",
              "BILL_AMT6    0\n",
              "PAY_AMT1     0\n",
              "PAY_AMT2     0\n",
              "PAY_AMT3     0\n",
              "PAY_AMT4     0\n",
              "PAY_AMT5     0\n",
              "PAY_AMT6     0\n",
              "default      0\n",
              "dtype: int64"
            ]
          },
          "metadata": {},
          "execution_count": 9
        },
        {
          "output_type": "stream",
          "name": "stdout",
          "text": [
            "time: 8.65 ms (started: 2024-01-18 11:26:56 +00:00)\n"
          ]
        }
      ]
    },
    {
      "cell_type": "code",
      "source": [
        "!pip install pandas-profiling"
      ],
      "metadata": {
        "colab": {
          "base_uri": "https://localhost:8080/"
        },
        "id": "w8EOa9ZsEZ8h",
        "outputId": "fc8e7a45-df13-4ffe-d811-b2b3caf92b28"
      },
      "execution_count": null,
      "outputs": [
        {
          "output_type": "stream",
          "name": "stdout",
          "text": [
            "Collecting pandas-profiling\n",
            "  Downloading pandas_profiling-3.6.6-py2.py3-none-any.whl (324 kB)\n",
            "\u001b[2K     \u001b[90m━━━━━━━━━━━━━━━━━━━━━━━━━━━━━━━━━━━━━━━━\u001b[0m \u001b[32m324.4/324.4 kB\u001b[0m \u001b[31m3.0 MB/s\u001b[0m eta \u001b[36m0:00:00\u001b[0m\n",
            "\u001b[?25hCollecting ydata-profiling (from pandas-profiling)\n",
            "  Downloading ydata_profiling-4.6.4-py2.py3-none-any.whl (357 kB)\n",
            "\u001b[2K     \u001b[90m━━━━━━━━━━━━━━━━━━━━━━━━━━━━━━━━━━━━━━━━\u001b[0m \u001b[32m357.8/357.8 kB\u001b[0m \u001b[31m14.7 MB/s\u001b[0m eta \u001b[36m0:00:00\u001b[0m\n",
            "\u001b[?25hRequirement already satisfied: scipy<1.12,>=1.4.1 in /usr/local/lib/python3.10/dist-packages (from ydata-profiling->pandas-profiling) (1.11.4)\n",
            "Requirement already satisfied: pandas!=1.4.0,<3,>1.1 in /usr/local/lib/python3.10/dist-packages (from ydata-profiling->pandas-profiling) (1.5.3)\n",
            "Requirement already satisfied: matplotlib<3.9,>=3.2 in /usr/local/lib/python3.10/dist-packages (from ydata-profiling->pandas-profiling) (3.7.1)\n",
            "Collecting pydantic>=2 (from ydata-profiling->pandas-profiling)\n",
            "  Downloading pydantic-2.5.3-py3-none-any.whl (381 kB)\n",
            "\u001b[2K     \u001b[90m━━━━━━━━━━━━━━━━━━━━━━━━━━━━━━━━━━━━━━━━\u001b[0m \u001b[32m381.9/381.9 kB\u001b[0m \u001b[31m32.3 MB/s\u001b[0m eta \u001b[36m0:00:00\u001b[0m\n",
            "\u001b[?25hRequirement already satisfied: PyYAML<6.1,>=5.0.0 in /usr/local/lib/python3.10/dist-packages (from ydata-profiling->pandas-profiling) (6.0.1)\n",
            "Requirement already satisfied: jinja2<3.2,>=2.11.1 in /usr/local/lib/python3.10/dist-packages (from ydata-profiling->pandas-profiling) (3.1.3)\n",
            "Collecting visions[type_image_path]==0.7.5 (from ydata-profiling->pandas-profiling)\n",
            "  Downloading visions-0.7.5-py3-none-any.whl (102 kB)\n",
            "\u001b[2K     \u001b[90m━━━━━━━━━━━━━━━━━━━━━━━━━━━━━━━━━━━━━━━━\u001b[0m \u001b[32m102.7/102.7 kB\u001b[0m \u001b[31m14.2 MB/s\u001b[0m eta \u001b[36m0:00:00\u001b[0m\n",
            "\u001b[?25hRequirement already satisfied: numpy<1.26,>=1.16.0 in /usr/local/lib/python3.10/dist-packages (from ydata-profiling->pandas-profiling) (1.23.5)\n",
            "Collecting htmlmin==0.1.12 (from ydata-profiling->pandas-profiling)\n",
            "  Downloading htmlmin-0.1.12.tar.gz (19 kB)\n",
            "  Preparing metadata (setup.py) ... \u001b[?25l\u001b[?25hdone\n",
            "Collecting phik<0.13,>=0.11.1 (from ydata-profiling->pandas-profiling)\n",
            "  Downloading phik-0.12.4-cp310-cp310-manylinux_2_17_x86_64.manylinux2014_x86_64.whl (686 kB)\n",
            "\u001b[2K     \u001b[90m━━━━━━━━━━━━━━━━━━━━━━━━━━━━━━━━━━━━━━━━\u001b[0m \u001b[32m686.1/686.1 kB\u001b[0m \u001b[31m35.8 MB/s\u001b[0m eta \u001b[36m0:00:00\u001b[0m\n",
            "\u001b[?25hRequirement already satisfied: requests<3,>=2.24.0 in /usr/local/lib/python3.10/dist-packages (from ydata-profiling->pandas-profiling) (2.31.0)\n",
            "Requirement already satisfied: tqdm<5,>=4.48.2 in /usr/local/lib/python3.10/dist-packages (from ydata-profiling->pandas-profiling) (4.66.1)\n",
            "Collecting seaborn<0.13,>=0.10.1 (from ydata-profiling->pandas-profiling)\n",
            "  Downloading seaborn-0.12.2-py3-none-any.whl (293 kB)\n",
            "\u001b[2K     \u001b[90m━━━━━━━━━━━━━━━━━━━━━━━━━━━━━━━━━━━━━━━━\u001b[0m \u001b[32m293.3/293.3 kB\u001b[0m \u001b[31m31.9 MB/s\u001b[0m eta \u001b[36m0:00:00\u001b[0m\n",
            "\u001b[?25hCollecting multimethod<2,>=1.4 (from ydata-profiling->pandas-profiling)\n",
            "  Downloading multimethod-1.10-py3-none-any.whl (9.9 kB)\n",
            "Requirement already satisfied: statsmodels<1,>=0.13.2 in /usr/local/lib/python3.10/dist-packages (from ydata-profiling->pandas-profiling) (0.14.1)\n",
            "Collecting typeguard<5,>=4.1.2 (from ydata-profiling->pandas-profiling)\n",
            "  Downloading typeguard-4.1.5-py3-none-any.whl (34 kB)\n",
            "Collecting imagehash==4.3.1 (from ydata-profiling->pandas-profiling)\n",
            "  Downloading ImageHash-4.3.1-py2.py3-none-any.whl (296 kB)\n",
            "\u001b[2K     \u001b[90m━━━━━━━━━━━━━━━━━━━━━━━━━━━━━━━━━━━━━━━━\u001b[0m \u001b[32m296.5/296.5 kB\u001b[0m \u001b[31m37.8 MB/s\u001b[0m eta \u001b[36m0:00:00\u001b[0m\n",
            "\u001b[?25hRequirement already satisfied: wordcloud>=1.9.1 in /usr/local/lib/python3.10/dist-packages (from ydata-profiling->pandas-profiling) (1.9.3)\n",
            "Collecting dacite>=1.8 (from ydata-profiling->pandas-profiling)\n",
            "  Downloading dacite-1.8.1-py3-none-any.whl (14 kB)\n",
            "Requirement already satisfied: numba<0.59.0,>=0.56.0 in /usr/local/lib/python3.10/dist-packages (from ydata-profiling->pandas-profiling) (0.58.1)\n",
            "Requirement already satisfied: PyWavelets in /usr/local/lib/python3.10/dist-packages (from imagehash==4.3.1->ydata-profiling->pandas-profiling) (1.5.0)\n",
            "Requirement already satisfied: pillow in /usr/local/lib/python3.10/dist-packages (from imagehash==4.3.1->ydata-profiling->pandas-profiling) (9.4.0)\n",
            "Requirement already satisfied: attrs>=19.3.0 in /usr/local/lib/python3.10/dist-packages (from visions[type_image_path]==0.7.5->ydata-profiling->pandas-profiling) (23.2.0)\n",
            "Requirement already satisfied: networkx>=2.4 in /usr/local/lib/python3.10/dist-packages (from visions[type_image_path]==0.7.5->ydata-profiling->pandas-profiling) (3.2.1)\n",
            "Collecting tangled-up-in-unicode>=0.0.4 (from visions[type_image_path]==0.7.5->ydata-profiling->pandas-profiling)\n",
            "  Downloading tangled_up_in_unicode-0.2.0-py3-none-any.whl (4.7 MB)\n",
            "\u001b[2K     \u001b[90m━━━━━━━━━━━━━━━━━━━━━━━━━━━━━━━━━━━━━━━━\u001b[0m \u001b[32m4.7/4.7 MB\u001b[0m \u001b[31m49.5 MB/s\u001b[0m eta \u001b[36m0:00:00\u001b[0m\n",
            "\u001b[?25hRequirement already satisfied: MarkupSafe>=2.0 in /usr/local/lib/python3.10/dist-packages (from jinja2<3.2,>=2.11.1->ydata-profiling->pandas-profiling) (2.1.3)\n",
            "Requirement already satisfied: contourpy>=1.0.1 in /usr/local/lib/python3.10/dist-packages (from matplotlib<3.9,>=3.2->ydata-profiling->pandas-profiling) (1.2.0)\n",
            "Requirement already satisfied: cycler>=0.10 in /usr/local/lib/python3.10/dist-packages (from matplotlib<3.9,>=3.2->ydata-profiling->pandas-profiling) (0.12.1)\n",
            "Requirement already satisfied: fonttools>=4.22.0 in /usr/local/lib/python3.10/dist-packages (from matplotlib<3.9,>=3.2->ydata-profiling->pandas-profiling) (4.47.2)\n",
            "Requirement already satisfied: kiwisolver>=1.0.1 in /usr/local/lib/python3.10/dist-packages (from matplotlib<3.9,>=3.2->ydata-profiling->pandas-profiling) (1.4.5)\n",
            "Requirement already satisfied: packaging>=20.0 in /usr/local/lib/python3.10/dist-packages (from matplotlib<3.9,>=3.2->ydata-profiling->pandas-profiling) (23.2)\n",
            "Requirement already satisfied: pyparsing>=2.3.1 in /usr/local/lib/python3.10/dist-packages (from matplotlib<3.9,>=3.2->ydata-profiling->pandas-profiling) (3.1.1)\n",
            "Requirement already satisfied: python-dateutil>=2.7 in /usr/local/lib/python3.10/dist-packages (from matplotlib<3.9,>=3.2->ydata-profiling->pandas-profiling) (2.8.2)\n",
            "Requirement already satisfied: llvmlite<0.42,>=0.41.0dev0 in /usr/local/lib/python3.10/dist-packages (from numba<0.59.0,>=0.56.0->ydata-profiling->pandas-profiling) (0.41.1)\n",
            "Requirement already satisfied: pytz>=2020.1 in /usr/local/lib/python3.10/dist-packages (from pandas!=1.4.0,<3,>1.1->ydata-profiling->pandas-profiling) (2023.3.post1)\n",
            "Requirement already satisfied: joblib>=0.14.1 in /usr/local/lib/python3.10/dist-packages (from phik<0.13,>=0.11.1->ydata-profiling->pandas-profiling) (1.3.2)\n",
            "Collecting annotated-types>=0.4.0 (from pydantic>=2->ydata-profiling->pandas-profiling)\n",
            "  Downloading annotated_types-0.6.0-py3-none-any.whl (12 kB)\n",
            "Collecting pydantic-core==2.14.6 (from pydantic>=2->ydata-profiling->pandas-profiling)\n",
            "  Downloading pydantic_core-2.14.6-cp310-cp310-manylinux_2_17_x86_64.manylinux2014_x86_64.whl (2.1 MB)\n",
            "\u001b[2K     \u001b[90m━━━━━━━━━━━━━━━━━━━━━━━━━━━━━━━━━━━━━━━━\u001b[0m \u001b[32m2.1/2.1 MB\u001b[0m \u001b[31m87.5 MB/s\u001b[0m eta \u001b[36m0:00:00\u001b[0m\n",
            "\u001b[?25hCollecting typing-extensions>=4.6.1 (from pydantic>=2->ydata-profiling->pandas-profiling)\n",
            "  Downloading typing_extensions-4.9.0-py3-none-any.whl (32 kB)\n",
            "Requirement already satisfied: charset-normalizer<4,>=2 in /usr/local/lib/python3.10/dist-packages (from requests<3,>=2.24.0->ydata-profiling->pandas-profiling) (3.3.2)\n",
            "Requirement already satisfied: idna<4,>=2.5 in /usr/local/lib/python3.10/dist-packages (from requests<3,>=2.24.0->ydata-profiling->pandas-profiling) (3.6)\n",
            "Requirement already satisfied: urllib3<3,>=1.21.1 in /usr/local/lib/python3.10/dist-packages (from requests<3,>=2.24.0->ydata-profiling->pandas-profiling) (2.0.7)\n",
            "Requirement already satisfied: certifi>=2017.4.17 in /usr/local/lib/python3.10/dist-packages (from requests<3,>=2.24.0->ydata-profiling->pandas-profiling) (2023.11.17)\n",
            "Requirement already satisfied: patsy>=0.5.4 in /usr/local/lib/python3.10/dist-packages (from statsmodels<1,>=0.13.2->ydata-profiling->pandas-profiling) (0.5.6)\n",
            "Requirement already satisfied: six in /usr/local/lib/python3.10/dist-packages (from patsy>=0.5.4->statsmodels<1,>=0.13.2->ydata-profiling->pandas-profiling) (1.16.0)\n",
            "Building wheels for collected packages: htmlmin\n",
            "  Building wheel for htmlmin (setup.py) ... \u001b[?25l\u001b[?25hdone\n",
            "  Created wheel for htmlmin: filename=htmlmin-0.1.12-py3-none-any.whl size=27081 sha256=f3c251e6e1699b7703831c7fa0f8d595647d2966b424a24f9a3965bbae0c8065\n",
            "  Stored in directory: /root/.cache/pip/wheels/dd/91/29/a79cecb328d01739e64017b6fb9a1ab9d8cb1853098ec5966d\n",
            "Successfully built htmlmin\n",
            "Installing collected packages: htmlmin, typing-extensions, tangled-up-in-unicode, multimethod, dacite, annotated-types, typeguard, pydantic-core, imagehash, visions, seaborn, pydantic, phik, ydata-profiling, pandas-profiling\n",
            "  Attempting uninstall: typing-extensions\n",
            "    Found existing installation: typing_extensions 4.5.0\n",
            "    Uninstalling typing_extensions-4.5.0:\n",
            "      Successfully uninstalled typing_extensions-4.5.0\n",
            "  Attempting uninstall: seaborn\n",
            "    Found existing installation: seaborn 0.13.1\n",
            "    Uninstalling seaborn-0.13.1:\n",
            "      Successfully uninstalled seaborn-0.13.1\n",
            "  Attempting uninstall: pydantic\n",
            "    Found existing installation: pydantic 1.10.13\n",
            "    Uninstalling pydantic-1.10.13:\n",
            "      Successfully uninstalled pydantic-1.10.13\n",
            "\u001b[31mERROR: pip's dependency resolver does not currently take into account all the packages that are installed. This behaviour is the source of the following dependency conflicts.\n",
            "lida 0.0.10 requires fastapi, which is not installed.\n",
            "lida 0.0.10 requires kaleido, which is not installed.\n",
            "lida 0.0.10 requires python-multipart, which is not installed.\n",
            "lida 0.0.10 requires uvicorn, which is not installed.\n",
            "llmx 0.0.15a0 requires cohere, which is not installed.\n",
            "llmx 0.0.15a0 requires openai, which is not installed.\n",
            "llmx 0.0.15a0 requires tiktoken, which is not installed.\n",
            "tensorflow-probability 0.22.0 requires typing-extensions<4.6.0, but you have typing-extensions 4.9.0 which is incompatible.\u001b[0m\u001b[31m\n",
            "\u001b[0mSuccessfully installed annotated-types-0.6.0 dacite-1.8.1 htmlmin-0.1.12 imagehash-4.3.1 multimethod-1.10 pandas-profiling-3.6.6 phik-0.12.4 pydantic-2.5.3 pydantic-core-2.14.6 seaborn-0.12.2 tangled-up-in-unicode-0.2.0 typeguard-4.1.5 typing-extensions-4.9.0 visions-0.7.5 ydata-profiling-4.6.4\n",
            "time: 47.5 s (started: 2024-01-18 11:26:58 +00:00)\n"
          ]
        }
      ]
    },
    {
      "cell_type": "code",
      "source": [
        "# get the dependent and independent variables\n",
        "X = data.drop(['default', 'ID'], 1)\n",
        "y = data['default']"
      ],
      "metadata": {
        "colab": {
          "base_uri": "https://localhost:8080/"
        },
        "id": "rsgKMHaqF3FL",
        "outputId": "88e62584-01f9-4b62-e7ea-f9b02a4da043"
      },
      "execution_count": null,
      "outputs": [
        {
          "output_type": "stream",
          "name": "stdout",
          "text": [
            "time: 6.4 ms (started: 2024-01-18 11:27:46 +00:00)\n"
          ]
        },
        {
          "output_type": "stream",
          "name": "stderr",
          "text": [
            "<ipython-input-11-1225fccae281>:2: FutureWarning: In a future version of pandas all arguments of DataFrame.drop except for the argument 'labels' will be keyword-only.\n",
            "  X = data.drop(['default', 'ID'], 1)\n"
          ]
        }
      ]
    },
    {
      "cell_type": "code",
      "source": [
        "!pip install pandas-profiling==3.0.0"
      ],
      "metadata": {
        "colab": {
          "base_uri": "https://localhost:8080/"
        },
        "id": "Ud6-lzPvGA-n",
        "outputId": "b7cc131c-7aa7-4ae7-83d6-4be28859ba29"
      },
      "execution_count": null,
      "outputs": [
        {
          "output_type": "stream",
          "name": "stdout",
          "text": [
            "Collecting pandas-profiling==3.0.0\n",
            "  Downloading pandas_profiling-3.0.0-py2.py3-none-any.whl (248 kB)\n",
            "\u001b[?25l     \u001b[90m━━━━━━━━━━━━━━━━━━━━━━━━━━━━━━━━━━━━━━━━\u001b[0m \u001b[32m0.0/248.5 kB\u001b[0m \u001b[31m?\u001b[0m eta \u001b[36m-:--:--\u001b[0m\r\u001b[2K     \u001b[91m━━━━━━\u001b[0m\u001b[91m╸\u001b[0m\u001b[90m━━━━━━━━━━━━━━━━━━━━━━━━━━━━━━━━━\u001b[0m \u001b[32m41.0/248.5 kB\u001b[0m \u001b[31m1.1 MB/s\u001b[0m eta \u001b[36m0:00:01\u001b[0m\r\u001b[2K     \u001b[91m━━━━━━━━━━━━━━━━━━━\u001b[0m\u001b[91m╸\u001b[0m\u001b[90m━━━━━━━━━━━━━━━━━━━━\u001b[0m \u001b[32m122.9/248.5 kB\u001b[0m \u001b[31m1.8 MB/s\u001b[0m eta \u001b[36m0:00:01\u001b[0m\r\u001b[2K     \u001b[90m━━━━━━━━━━━━━━━━━━━━━━━━━━━━━━━━━━━━━━━━\u001b[0m \u001b[32m248.5/248.5 kB\u001b[0m \u001b[31m2.6 MB/s\u001b[0m eta \u001b[36m0:00:00\u001b[0m\n",
            "\u001b[?25hRequirement already satisfied: joblib in /usr/local/lib/python3.10/dist-packages (from pandas-profiling==3.0.0) (1.3.2)\n",
            "Requirement already satisfied: scipy>=1.4.1 in /usr/local/lib/python3.10/dist-packages (from pandas-profiling==3.0.0) (1.11.4)\n",
            "Requirement already satisfied: pandas!=1.0.0,!=1.0.1,!=1.0.2,!=1.1.0,>=0.25.3 in /usr/local/lib/python3.10/dist-packages (from pandas-profiling==3.0.0) (1.5.3)\n",
            "Requirement already satisfied: matplotlib>=3.2.0 in /usr/local/lib/python3.10/dist-packages (from pandas-profiling==3.0.0) (3.7.1)\n",
            "Requirement already satisfied: pydantic>=1.8.1 in /usr/local/lib/python3.10/dist-packages (from pandas-profiling==3.0.0) (2.5.3)\n",
            "Requirement already satisfied: PyYAML>=5.0.0 in /usr/local/lib/python3.10/dist-packages (from pandas-profiling==3.0.0) (6.0.1)\n",
            "Requirement already satisfied: jinja2>=2.11.1 in /usr/local/lib/python3.10/dist-packages (from pandas-profiling==3.0.0) (3.1.3)\n",
            "Collecting visions[type_image_path]==0.7.1 (from pandas-profiling==3.0.0)\n",
            "  Downloading visions-0.7.1-py3-none-any.whl (102 kB)\n",
            "\u001b[2K     \u001b[90m━━━━━━━━━━━━━━━━━━━━━━━━━━━━━━━━━━━━━━━━\u001b[0m \u001b[32m103.0/103.0 kB\u001b[0m \u001b[31m13.6 MB/s\u001b[0m eta \u001b[36m0:00:00\u001b[0m\n",
            "\u001b[?25hRequirement already satisfied: numpy>=1.16.0 in /usr/local/lib/python3.10/dist-packages (from pandas-profiling==3.0.0) (1.23.5)\n",
            "Requirement already satisfied: htmlmin>=0.1.12 in /usr/local/lib/python3.10/dist-packages (from pandas-profiling==3.0.0) (0.1.12)\n",
            "Requirement already satisfied: missingno>=0.4.2 in /usr/local/lib/python3.10/dist-packages (from pandas-profiling==3.0.0) (0.5.2)\n",
            "Requirement already satisfied: phik>=0.11.1 in /usr/local/lib/python3.10/dist-packages (from pandas-profiling==3.0.0) (0.12.4)\n",
            "Collecting tangled-up-in-unicode==0.1.0 (from pandas-profiling==3.0.0)\n",
            "  Downloading tangled_up_in_unicode-0.1.0-py3-none-any.whl (3.1 MB)\n",
            "\u001b[2K     \u001b[90m━━━━━━━━━━━━━━━━━━━━━━━━━━━━━━━━━━━━━━━━\u001b[0m \u001b[32m3.1/3.1 MB\u001b[0m \u001b[31m23.6 MB/s\u001b[0m eta \u001b[36m0:00:00\u001b[0m\n",
            "\u001b[?25hRequirement already satisfied: requests>=2.24.0 in /usr/local/lib/python3.10/dist-packages (from pandas-profiling==3.0.0) (2.31.0)\n",
            "Requirement already satisfied: tqdm>=4.48.2 in /usr/local/lib/python3.10/dist-packages (from pandas-profiling==3.0.0) (4.66.1)\n",
            "Requirement already satisfied: seaborn>=0.10.1 in /usr/local/lib/python3.10/dist-packages (from pandas-profiling==3.0.0) (0.12.2)\n",
            "Requirement already satisfied: attrs>=19.3.0 in /usr/local/lib/python3.10/dist-packages (from visions[type_image_path]==0.7.1->pandas-profiling==3.0.0) (23.2.0)\n",
            "Requirement already satisfied: networkx>=2.4 in /usr/local/lib/python3.10/dist-packages (from visions[type_image_path]==0.7.1->pandas-profiling==3.0.0) (3.2.1)\n",
            "Collecting bottleneck (from visions[type_image_path]==0.7.1->pandas-profiling==3.0.0)\n",
            "  Downloading Bottleneck-1.3.7-cp310-cp310-manylinux_2_5_x86_64.manylinux1_x86_64.manylinux_2_17_x86_64.manylinux2014_x86_64.whl (354 kB)\n",
            "\u001b[2K     \u001b[90m━━━━━━━━━━━━━━━━━━━━━━━━━━━━━━━━━━━━━━━━\u001b[0m \u001b[32m354.0/354.0 kB\u001b[0m \u001b[31m39.8 MB/s\u001b[0m eta \u001b[36m0:00:00\u001b[0m\n",
            "\u001b[?25hCollecting multimethod==1.4 (from visions[type_image_path]==0.7.1->pandas-profiling==3.0.0)\n",
            "  Downloading multimethod-1.4-py2.py3-none-any.whl (7.3 kB)\n",
            "Requirement already satisfied: imagehash in /usr/local/lib/python3.10/dist-packages (from visions[type_image_path]==0.7.1->pandas-profiling==3.0.0) (4.3.1)\n",
            "Requirement already satisfied: Pillow in /usr/local/lib/python3.10/dist-packages (from visions[type_image_path]==0.7.1->pandas-profiling==3.0.0) (9.4.0)\n",
            "Requirement already satisfied: MarkupSafe>=2.0 in /usr/local/lib/python3.10/dist-packages (from jinja2>=2.11.1->pandas-profiling==3.0.0) (2.1.3)\n",
            "Requirement already satisfied: contourpy>=1.0.1 in /usr/local/lib/python3.10/dist-packages (from matplotlib>=3.2.0->pandas-profiling==3.0.0) (1.2.0)\n",
            "Requirement already satisfied: cycler>=0.10 in /usr/local/lib/python3.10/dist-packages (from matplotlib>=3.2.0->pandas-profiling==3.0.0) (0.12.1)\n",
            "Requirement already satisfied: fonttools>=4.22.0 in /usr/local/lib/python3.10/dist-packages (from matplotlib>=3.2.0->pandas-profiling==3.0.0) (4.47.2)\n",
            "Requirement already satisfied: kiwisolver>=1.0.1 in /usr/local/lib/python3.10/dist-packages (from matplotlib>=3.2.0->pandas-profiling==3.0.0) (1.4.5)\n",
            "Requirement already satisfied: packaging>=20.0 in /usr/local/lib/python3.10/dist-packages (from matplotlib>=3.2.0->pandas-profiling==3.0.0) (23.2)\n",
            "Requirement already satisfied: pyparsing>=2.3.1 in /usr/local/lib/python3.10/dist-packages (from matplotlib>=3.2.0->pandas-profiling==3.0.0) (3.1.1)\n",
            "Requirement already satisfied: python-dateutil>=2.7 in /usr/local/lib/python3.10/dist-packages (from matplotlib>=3.2.0->pandas-profiling==3.0.0) (2.8.2)\n",
            "Requirement already satisfied: pytz>=2020.1 in /usr/local/lib/python3.10/dist-packages (from pandas!=1.0.0,!=1.0.1,!=1.0.2,!=1.1.0,>=0.25.3->pandas-profiling==3.0.0) (2023.3.post1)\n",
            "Requirement already satisfied: annotated-types>=0.4.0 in /usr/local/lib/python3.10/dist-packages (from pydantic>=1.8.1->pandas-profiling==3.0.0) (0.6.0)\n",
            "Requirement already satisfied: pydantic-core==2.14.6 in /usr/local/lib/python3.10/dist-packages (from pydantic>=1.8.1->pandas-profiling==3.0.0) (2.14.6)\n",
            "Requirement already satisfied: typing-extensions>=4.6.1 in /usr/local/lib/python3.10/dist-packages (from pydantic>=1.8.1->pandas-profiling==3.0.0) (4.9.0)\n",
            "Requirement already satisfied: charset-normalizer<4,>=2 in /usr/local/lib/python3.10/dist-packages (from requests>=2.24.0->pandas-profiling==3.0.0) (3.3.2)\n",
            "Requirement already satisfied: idna<4,>=2.5 in /usr/local/lib/python3.10/dist-packages (from requests>=2.24.0->pandas-profiling==3.0.0) (3.6)\n",
            "Requirement already satisfied: urllib3<3,>=1.21.1 in /usr/local/lib/python3.10/dist-packages (from requests>=2.24.0->pandas-profiling==3.0.0) (2.0.7)\n",
            "Requirement already satisfied: certifi>=2017.4.17 in /usr/local/lib/python3.10/dist-packages (from requests>=2.24.0->pandas-profiling==3.0.0) (2023.11.17)\n",
            "Requirement already satisfied: six>=1.5 in /usr/local/lib/python3.10/dist-packages (from python-dateutil>=2.7->matplotlib>=3.2.0->pandas-profiling==3.0.0) (1.16.0)\n",
            "Requirement already satisfied: PyWavelets in /usr/local/lib/python3.10/dist-packages (from imagehash->visions[type_image_path]==0.7.1->pandas-profiling==3.0.0) (1.5.0)\n",
            "Installing collected packages: tangled-up-in-unicode, multimethod, bottleneck, visions, pandas-profiling\n",
            "  Attempting uninstall: tangled-up-in-unicode\n",
            "    Found existing installation: tangled-up-in-unicode 0.2.0\n",
            "    Uninstalling tangled-up-in-unicode-0.2.0:\n",
            "      Successfully uninstalled tangled-up-in-unicode-0.2.0\n",
            "  Attempting uninstall: multimethod\n",
            "    Found existing installation: multimethod 1.10\n",
            "    Uninstalling multimethod-1.10:\n",
            "      Successfully uninstalled multimethod-1.10\n",
            "  Attempting uninstall: visions\n",
            "    Found existing installation: visions 0.7.5\n",
            "    Uninstalling visions-0.7.5:\n",
            "      Successfully uninstalled visions-0.7.5\n",
            "  Attempting uninstall: pandas-profiling\n",
            "    Found existing installation: pandas-profiling 3.6.6\n",
            "    Uninstalling pandas-profiling-3.6.6:\n",
            "      Successfully uninstalled pandas-profiling-3.6.6\n",
            "\u001b[31mERROR: pip's dependency resolver does not currently take into account all the packages that are installed. This behaviour is the source of the following dependency conflicts.\n",
            "ydata-profiling 4.6.4 requires visions[type_image_path]==0.7.5, but you have visions 0.7.1 which is incompatible.\u001b[0m\u001b[31m\n",
            "\u001b[0mSuccessfully installed bottleneck-1.3.7 multimethod-1.4 pandas-profiling-3.0.0 tangled-up-in-unicode-0.1.0 visions-0.7.1\n",
            "time: 27.9 s (started: 2024-01-18 11:27:46 +00:00)\n"
          ]
        }
      ]
    },
    {
      "cell_type": "code",
      "source": [
        "# import pandas_profiling\n",
        "# # #create a pandas profile report for the dataset\n",
        "# profile = pandas_profiling.ProfileReport(data, minimal=True)\n",
        "\n",
        "# # #save the report in a html document\n",
        "# profile.to_file('credi_card_default_EDA.html')"
      ],
      "metadata": {
        "colab": {
          "base_uri": "https://localhost:8080/"
        },
        "id": "wYVU46GFGN9f",
        "outputId": "3bd2e56d-cb28-4744-d036-559be91f5806"
      },
      "execution_count": null,
      "outputs": [
        {
          "output_type": "stream",
          "name": "stdout",
          "text": [
            "time: 317 µs (started: 2024-01-18 11:28:43 +00:00)\n"
          ]
        }
      ]
    },
    {
      "cell_type": "code",
      "source": [
        "\n",
        "# bin some values in the education column\n",
        "X[(X['EDUCATION'] == 0) | (X['EDUCATION'] == 5) | (X['EDUCATION'] == 6)] = 4\n",
        "\n",
        "X['EDUCATION'].value_counts()\n"
      ],
      "metadata": {
        "colab": {
          "base_uri": "https://localhost:8080/"
        },
        "id": "2S74X0QXGYxz",
        "outputId": "8d8d9294-cc69-49b6-b9ed-69b74873f751"
      },
      "execution_count": null,
      "outputs": [
        {
          "output_type": "execute_result",
          "data": {
            "text/plain": [
              "2    14030\n",
              "1    10585\n",
              "3     4917\n",
              "4      468\n",
              "Name: EDUCATION, dtype: int64"
            ]
          },
          "metadata": {},
          "execution_count": 14
        },
        {
          "output_type": "stream",
          "name": "stdout",
          "text": [
            "time: 12.2 ms (started: 2024-01-18 11:28:47 +00:00)\n"
          ]
        }
      ]
    },
    {
      "cell_type": "code",
      "source": [
        "# import package for splitting data\n",
        "from sklearn.model_selection import train_test_split\n",
        "from sklearn.model_selection import cross_val_score\n",
        "from sklearn.metrics import accuracy_score, f1_score, confusion_matrix, roc_auc_score\n",
        "from sklearn.model_selection import GridSearchCV\n",
        "\n",
        "#split the data\n",
        "X_train, X_test, y_train, y_test = train_test_split(X, y, test_size=0.1, random_state=33)\n",
        "\n",
        "# import standard scalar\n",
        "from sklearn.preprocessing import StandardScaler\n",
        "\n",
        "# instantiate the standard scalar\n",
        "ss = StandardScaler()\n",
        "X_train_ss = ss.fit_transform(X_train)\n",
        "X_test_ss = ss.transform(X_test)\n",
        "\n",
        "# check\n",
        "X_train_ss"
      ],
      "metadata": {
        "colab": {
          "base_uri": "https://localhost:8080/"
        },
        "id": "MvEqFzjBGemL",
        "outputId": "b7eb7dab-6018-497c-9a55-db3848ed6baa"
      },
      "execution_count": null,
      "outputs": [
        {
          "output_type": "execute_result",
          "data": {
            "text/plain": [
              "array([[-1.19482966,  0.67320416,  0.21251328, ..., -0.26855851,\n",
              "        -0.28198535, -0.25332386],\n",
              "       [-0.73314976, -1.14735997, -1.13124751, ..., -0.14411153,\n",
              "        -0.31741068, -0.28694982],\n",
              "       [-1.04093636, -1.14735997,  1.55627407, ..., -0.30100384,\n",
              "        -0.31741068, -0.28694982],\n",
              "       ...,\n",
              "       [-0.42536315, -1.14735997, -1.13124751, ..., -0.18772759,\n",
              "        -0.17101282, -0.17486329],\n",
              "       [-0.3484165 ,  0.67320416,  1.55627407, ..., -0.25343409,\n",
              "        -0.18288835, -0.26677424],\n",
              "       [ 1.49830313,  0.67320416,  0.21251328, ...,  1.41552363,\n",
              "        -0.1987895 , -0.16864249]])"
            ]
          },
          "metadata": {},
          "execution_count": 15
        },
        {
          "output_type": "stream",
          "name": "stdout",
          "text": [
            "time: 29 ms (started: 2024-01-18 11:28:50 +00:00)\n"
          ]
        }
      ]
    },
    {
      "cell_type": "code",
      "source": [
        "#NEURAL NETWORKS:\n",
        "\n",
        "# import the keras module\n",
        "import keras\n",
        "\n",
        "# import the sequential model\n",
        "from keras.models import Sequential\n",
        "\n",
        "# import dense layer that connects all nodes in the previous layer to nodes in current layer\n",
        "from keras.layers import Dense\n",
        "\n",
        "# import optimizers\n",
        "from keras.optimizers import SGD\n",
        "\n",
        "# import dropout\n",
        "from keras.layers import Dropout\n",
        "\n",
        "# as recommended in the original paper on Dropout, a constraint is imposed on the weights for each hidden layer,\n",
        "# ensuring that the maximum norm of the weights does not exceed a value of 3.\n",
        "# This is done by setting the kernel_constraint argument on the Dense class when constructing the layers.\n",
        "from keras.constraints import MaxNorm\n",
        "\n",
        "# instantiate the model\n",
        "model = Sequential()\n",
        "\n",
        "# Add the input layer  which transforms each input to a 1-dimensional array\n",
        "model.add(keras.layers.Flatten(input_shape = (23, )))\n",
        "\n",
        "# Add the first hidden layer with 2000 nodes, specify activation='relu'\n",
        "model.add(Dense(2000, activation='relu', kernel_constraint=MaxNorm(3)))\n",
        "\n",
        "# Add the first dropout layer\n",
        "model.add(Dropout(0.2))\n",
        "\n",
        "# Add a second hidden Dense layer. This should have 1000 nodes and a 'relu' activation.\n",
        "model.add(Dense(1000, activation='relu', kernel_constraint=MaxNorm(3)))\n",
        "\n",
        "# Add a second dropout layer\n",
        "model.add(Dropout(0.2))\n",
        "\n",
        "# Add a third hidden Dense layer. This should have 1000 nodes and a 'relu' activation.\n",
        "model.add(Dense(500, activation='relu', kernel_constraint=MaxNorm(3)))\n",
        "\n",
        "# Add the third dropout layer\n",
        "model.add(Dropout(0.2))\n",
        "\n",
        "# Finally, add an output layer, which is a Dense layer with 2 classes. Use sigmoid activation function for binary classification.\n",
        "model.add(Dense(1, activation='sigmoid'))\n",
        "\n",
        "# see the summary of the model\n",
        "model.summary()"
      ],
      "metadata": {
        "colab": {
          "base_uri": "https://localhost:8080/"
        },
        "id": "lKd0BVozGigK",
        "outputId": "d9e3839c-86f1-4b00-e685-72927de2f418"
      },
      "execution_count": null,
      "outputs": [
        {
          "output_type": "stream",
          "name": "stdout",
          "text": [
            "Model: \"sequential\"\n",
            "_________________________________________________________________\n",
            " Layer (type)                Output Shape              Param #   \n",
            "=================================================================\n",
            " flatten (Flatten)           (None, 23)                0         \n",
            "                                                                 \n",
            " dense (Dense)               (None, 2000)              48000     \n",
            "                                                                 \n",
            " dropout (Dropout)           (None, 2000)              0         \n",
            "                                                                 \n",
            " dense_1 (Dense)             (None, 1000)              2001000   \n",
            "                                                                 \n",
            " dropout_1 (Dropout)         (None, 1000)              0         \n",
            "                                                                 \n",
            " dense_2 (Dense)             (None, 500)               500500    \n",
            "                                                                 \n",
            " dropout_2 (Dropout)         (None, 500)               0         \n",
            "                                                                 \n",
            " dense_3 (Dense)             (None, 1)                 501       \n",
            "                                                                 \n",
            "=================================================================\n",
            "Total params: 2550001 (9.73 MB)\n",
            "Trainable params: 2550001 (9.73 MB)\n",
            "Non-trainable params: 0 (0.00 Byte)\n",
            "_________________________________________________________________\n",
            "time: 6.18 s (started: 2024-01-18 11:30:19 +00:00)\n"
          ]
        }
      ]
    },
    {
      "cell_type": "code",
      "source": [
        "from sklearn.model_selection import train_test_split\n",
        "from sklearn.preprocessing import StandardScaler\n",
        "\n",
        "# Assume X_train and y_train are your features and labels\n",
        "# Split the data into training and validation sets\n",
        "X_train, X_val, y_train, y_val = train_test_split(X_train, y_train, test_size=0.2, random_state=42)\n",
        "\n",
        "# Standardize the data\n",
        "scaler = StandardScaler()\n",
        "X_train_ss = scaler.fit_transform(X_train)\n",
        "X_val_ss = scaler.transform(X_val)\n",
        "\n",
        "# Compile the model\n",
        "model.compile(optimizer='adam', loss='binary_crossentropy', metrics=['accuracy'])\n",
        "\n",
        "# Defines model callbacks\n",
        "model_path = './model_dir/model.h5'\n",
        "my_callbacks = [keras.callbacks.ModelCheckpoint(model_path, monitor='loss'),\n",
        "                keras.callbacks.EarlyStopping(patience=3, monitor='loss')\n",
        "                ]\n",
        "\n",
        "# Fit the model on the train dataset\n",
        "history = model.fit(X_train_ss, y_train, validation_data=(X_val_ss, y_val), epochs=100, callbacks=my_callbacks)\n"
      ],
      "metadata": {
        "colab": {
          "base_uri": "https://localhost:8080/"
        },
        "id": "rwPysI91HHDg",
        "outputId": "1d0ee872-af8c-4ee2-acf1-c3092a6e5adf"
      },
      "execution_count": null,
      "outputs": [
        {
          "output_type": "stream",
          "name": "stdout",
          "text": [
            "Epoch 1/100\n",
            "540/540 [==============================] - 16s 29ms/step - loss: 0.3483 - accuracy: 0.8548 - val_loss: 0.3388 - val_accuracy: 0.8637\n",
            "Epoch 2/100\n",
            "  5/540 [..............................] - ETA: 14s - loss: 0.3475 - accuracy: 0.8500"
          ]
        },
        {
          "output_type": "stream",
          "name": "stderr",
          "text": [
            "/usr/local/lib/python3.10/dist-packages/keras/src/engine/training.py:3103: UserWarning: You are saving your model as an HDF5 file via `model.save()`. This file format is considered legacy. We recommend using instead the native Keras format, e.g. `model.save('my_model.keras')`.\n",
            "  saving_api.save_model(\n"
          ]
        },
        {
          "output_type": "stream",
          "name": "stdout",
          "text": [
            "540/540 [==============================] - 14s 27ms/step - loss: 0.3360 - accuracy: 0.8602 - val_loss: 0.3432 - val_accuracy: 0.8569\n",
            "Epoch 3/100\n",
            "540/540 [==============================] - 15s 29ms/step - loss: 0.3352 - accuracy: 0.8594 - val_loss: 0.3658 - val_accuracy: 0.8509\n",
            "Epoch 4/100\n",
            "540/540 [==============================] - 15s 27ms/step - loss: 0.3333 - accuracy: 0.8597 - val_loss: 0.3582 - val_accuracy: 0.8512\n",
            "Epoch 5/100\n",
            "540/540 [==============================] - 14s 25ms/step - loss: 0.3255 - accuracy: 0.8620 - val_loss: 0.3741 - val_accuracy: 0.8454\n",
            "Epoch 6/100\n",
            "540/540 [==============================] - 13s 25ms/step - loss: 0.3195 - accuracy: 0.8667 - val_loss: 0.3882 - val_accuracy: 0.8403\n",
            "Epoch 7/100\n",
            "540/540 [==============================] - 15s 27ms/step - loss: 0.3204 - accuracy: 0.8655 - val_loss: 0.3922 - val_accuracy: 0.8368\n",
            "Epoch 8/100\n",
            "540/540 [==============================] - 14s 26ms/step - loss: 0.3182 - accuracy: 0.8650 - val_loss: 0.3991 - val_accuracy: 0.8410\n",
            "Epoch 9/100\n",
            "540/540 [==============================] - 14s 26ms/step - loss: 0.3187 - accuracy: 0.8641 - val_loss: 0.4072 - val_accuracy: 0.8389\n",
            "Epoch 10/100\n",
            "540/540 [==============================] - 14s 26ms/step - loss: 0.3106 - accuracy: 0.8697 - val_loss: 0.4018 - val_accuracy: 0.8394\n",
            "Epoch 11/100\n",
            "540/540 [==============================] - 14s 25ms/step - loss: 0.3105 - accuracy: 0.8704 - val_loss: 0.4270 - val_accuracy: 0.8350\n",
            "Epoch 12/100\n",
            "540/540 [==============================] - 14s 26ms/step - loss: 0.3104 - accuracy: 0.8706 - val_loss: 0.4171 - val_accuracy: 0.8273\n",
            "Epoch 13/100\n",
            "540/540 [==============================] - 14s 27ms/step - loss: 0.3073 - accuracy: 0.8738 - val_loss: 0.4223 - val_accuracy: 0.8285\n",
            "Epoch 14/100\n",
            "540/540 [==============================] - 14s 26ms/step - loss: 0.3070 - accuracy: 0.8721 - val_loss: 0.4379 - val_accuracy: 0.8255\n",
            "Epoch 15/100\n",
            "540/540 [==============================] - 14s 25ms/step - loss: 0.3057 - accuracy: 0.8743 - val_loss: 0.4063 - val_accuracy: 0.8315\n",
            "Epoch 16/100\n",
            "540/540 [==============================] - 15s 27ms/step - loss: 0.3030 - accuracy: 0.8744 - val_loss: 0.4574 - val_accuracy: 0.8220\n",
            "Epoch 17/100\n",
            "540/540 [==============================] - 14s 26ms/step - loss: 0.3019 - accuracy: 0.8748 - val_loss: 0.4503 - val_accuracy: 0.8296\n",
            "Epoch 18/100\n",
            "540/540 [==============================] - 14s 25ms/step - loss: 0.2918 - accuracy: 0.8775 - val_loss: 0.4754 - val_accuracy: 0.8262\n",
            "Epoch 19/100\n",
            "540/540 [==============================] - 14s 26ms/step - loss: 0.2977 - accuracy: 0.8767 - val_loss: 0.4588 - val_accuracy: 0.8174\n",
            "Epoch 20/100\n",
            "540/540 [==============================] - 13s 25ms/step - loss: 0.2879 - accuracy: 0.8798 - val_loss: 0.4785 - val_accuracy: 0.8190\n",
            "Epoch 21/100\n",
            "540/540 [==============================] - 21s 38ms/step - loss: 0.2900 - accuracy: 0.8803 - val_loss: 0.4901 - val_accuracy: 0.8160\n",
            "Epoch 22/100\n",
            "540/540 [==============================] - 14s 25ms/step - loss: 0.2926 - accuracy: 0.8769 - val_loss: 0.4604 - val_accuracy: 0.8199\n",
            "Epoch 23/100\n",
            "540/540 [==============================] - 16s 29ms/step - loss: 0.2873 - accuracy: 0.8784 - val_loss: 0.4967 - val_accuracy: 0.8162\n",
            "Epoch 24/100\n",
            "540/540 [==============================] - 14s 26ms/step - loss: 0.2834 - accuracy: 0.8821 - val_loss: 0.5102 - val_accuracy: 0.8146\n",
            "Epoch 25/100\n",
            "540/540 [==============================] - 14s 26ms/step - loss: 0.2832 - accuracy: 0.8815 - val_loss: 0.4925 - val_accuracy: 0.8181\n",
            "Epoch 26/100\n",
            "540/540 [==============================] - 15s 27ms/step - loss: 0.2831 - accuracy: 0.8825 - val_loss: 0.4890 - val_accuracy: 0.8190\n",
            "Epoch 27/100\n",
            "540/540 [==============================] - 14s 26ms/step - loss: 0.2795 - accuracy: 0.8836 - val_loss: 0.5149 - val_accuracy: 0.8171\n",
            "Epoch 28/100\n",
            "540/540 [==============================] - 14s 25ms/step - loss: 0.2785 - accuracy: 0.8837 - val_loss: 0.5217 - val_accuracy: 0.8269\n",
            "Epoch 29/100\n",
            "540/540 [==============================] - 14s 26ms/step - loss: 0.2789 - accuracy: 0.8849 - val_loss: 0.5314 - val_accuracy: 0.8132\n",
            "Epoch 30/100\n",
            "540/540 [==============================] - 14s 26ms/step - loss: 0.2833 - accuracy: 0.8859 - val_loss: 0.4797 - val_accuracy: 0.8125\n",
            "Epoch 31/100\n",
            "540/540 [==============================] - 13s 24ms/step - loss: 0.2721 - accuracy: 0.8868 - val_loss: 0.5282 - val_accuracy: 0.8123\n",
            "Epoch 32/100\n",
            "540/540 [==============================] - 14s 26ms/step - loss: 0.2693 - accuracy: 0.8872 - val_loss: 0.5355 - val_accuracy: 0.8176\n",
            "Epoch 33/100\n",
            "540/540 [==============================] - 14s 26ms/step - loss: 0.2725 - accuracy: 0.8880 - val_loss: 0.5225 - val_accuracy: 0.8183\n",
            "Epoch 34/100\n",
            "540/540 [==============================] - 13s 25ms/step - loss: 0.2720 - accuracy: 0.8858 - val_loss: 0.5572 - val_accuracy: 0.8053\n",
            "Epoch 35/100\n",
            "540/540 [==============================] - 13s 25ms/step - loss: 0.2677 - accuracy: 0.8902 - val_loss: 0.5368 - val_accuracy: 0.8104\n",
            "Epoch 36/100\n",
            "540/540 [==============================] - 13s 24ms/step - loss: 0.2707 - accuracy: 0.8885 - val_loss: 0.5587 - val_accuracy: 0.8132\n",
            "Epoch 37/100\n",
            "540/540 [==============================] - 13s 24ms/step - loss: 0.2633 - accuracy: 0.8899 - val_loss: 0.5567 - val_accuracy: 0.8042\n",
            "Epoch 38/100\n",
            "540/540 [==============================] - 14s 26ms/step - loss: 0.2677 - accuracy: 0.8880 - val_loss: 0.5323 - val_accuracy: 0.8042\n",
            "Epoch 39/100\n",
            "540/540 [==============================] - 13s 25ms/step - loss: 0.2650 - accuracy: 0.8894 - val_loss: 0.5549 - val_accuracy: 0.8065\n",
            "Epoch 40/100\n",
            "540/540 [==============================] - 14s 26ms/step - loss: 0.2629 - accuracy: 0.8901 - val_loss: 0.5664 - val_accuracy: 0.8144\n",
            "Epoch 41/100\n",
            "540/540 [==============================] - 14s 25ms/step - loss: 0.2576 - accuracy: 0.8956 - val_loss: 0.5885 - val_accuracy: 0.8069\n",
            "Epoch 42/100\n",
            "540/540 [==============================] - 13s 25ms/step - loss: 0.2595 - accuracy: 0.8913 - val_loss: 0.5379 - val_accuracy: 0.8146\n",
            "Epoch 43/100\n",
            "540/540 [==============================] - 14s 25ms/step - loss: 0.2561 - accuracy: 0.8955 - val_loss: 0.5738 - val_accuracy: 0.8095\n",
            "Epoch 44/100\n",
            "540/540 [==============================] - 13s 25ms/step - loss: 0.2579 - accuracy: 0.8933 - val_loss: 0.5646 - val_accuracy: 0.8083\n",
            "Epoch 45/100\n",
            "540/540 [==============================] - 14s 25ms/step - loss: 0.2567 - accuracy: 0.8953 - val_loss: 0.5564 - val_accuracy: 0.8056\n",
            "Epoch 46/100\n",
            "540/540 [==============================] - 13s 25ms/step - loss: 0.2548 - accuracy: 0.8929 - val_loss: 0.5533 - val_accuracy: 0.8095\n",
            "Epoch 47/100\n",
            "540/540 [==============================] - 13s 24ms/step - loss: 0.2464 - accuracy: 0.8961 - val_loss: 0.6559 - val_accuracy: 0.8035\n",
            "Epoch 48/100\n",
            "540/540 [==============================] - 13s 24ms/step - loss: 0.2508 - accuracy: 0.8957 - val_loss: 0.6215 - val_accuracy: 0.8046\n",
            "Epoch 49/100\n",
            "540/540 [==============================] - 14s 25ms/step - loss: 0.2498 - accuracy: 0.8965 - val_loss: 0.6057 - val_accuracy: 0.8025\n",
            "Epoch 50/100\n",
            "540/540 [==============================] - 14s 26ms/step - loss: 0.2506 - accuracy: 0.8958 - val_loss: 0.6280 - val_accuracy: 0.8002\n",
            "time: 12min 11s (started: 2024-01-18 12:01:26 +00:00)\n"
          ]
        }
      ]
    },
    {
      "cell_type": "code",
      "source": [
        "loaded_model_1 = keras.models.load_model('./model_dir/model.h5')\n",
        "\n",
        "# Assuming you have X_test_ss and y_test defined\n",
        "pred_prob = loaded_model_1.predict(X_test_ss)\n",
        "nn_pred = (pred_prob > 0.5).astype(int).ravel()  # Apply threshold (0.5 in this case)\n",
        "nn_acc = accuracy_score(y_test, nn_pred)\n",
        "nn_f1 = f1_score(y_test, nn_pred)\n",
        "nn_roc_auc = roc_auc_score(y_test, pred_prob)\n",
        "\n",
        "print(f'Accuracy score of ANN without class imbalance consideration is {nn_acc}', '\\n')\n",
        "print(f'ROC_AUC score of ANN without class imbalance consideration is {nn_roc_auc}', '\\n')\n",
        "print(f'The f1 score of ANN without class imbalance consideration is {nn_f1}', '\\n')\n",
        "print('The confusion matrix of ANN without class imbalance consideration is:', '\\n', f'{confusion_matrix(y_test, nn_pred)}')\n"
      ],
      "metadata": {
        "colab": {
          "base_uri": "https://localhost:8080/"
        },
        "id": "9Jo-U9RqhoD9",
        "outputId": "10acd7e6-057a-43a1-eec1-6fcffcb9acc2"
      },
      "execution_count": null,
      "outputs": [
        {
          "output_type": "stream",
          "name": "stdout",
          "text": [
            "94/94 [==============================] - 1s 9ms/step\n",
            "Accuracy score of ANN without class imbalance consideration is 0.7896666666666666 \n",
            "\n",
            "ROC_AUC score of ANN without class imbalance consideration is 0.7120662359278986 \n",
            "\n",
            "The f1 score of ANN without class imbalance consideration is 0.44109831709477415 \n",
            "\n",
            "The confusion matrix of ANN without class imbalance consideration is: \n",
            " [[2120  217]\n",
            " [ 414  249]]\n",
            "time: 2.01 s (started: 2024-01-18 12:25:56 +00:00)\n"
          ]
        }
      ]
    },
    {
      "cell_type": "code",
      "source": [
        "#Create a network that takes class imbalance into consideration\n",
        "\n",
        "# instantiate the model\n",
        "model_2 = Sequential()\n",
        "\n",
        "# Add the input layer  which transforms each input to a 1-dimensional array\n",
        "model_2.add(keras.layers.Flatten(input_shape = (23, )))\n",
        "\n",
        "# Add the first hidden layer with 4000 nodes, specify activation='relu'\n",
        "model_2.add(Dense(4000, activation='relu', kernel_constraint=MaxNorm(4)))\n",
        "\n",
        "# Add the first dropout layer to reduce overfitting and ensure randomization of layers\n",
        "model_2.add(Dropout(0.2))\n",
        "\n",
        "# Add a second hidden Dense layer. This should have 3000 nodes and a 'relu' activation.\n",
        "model_2.add(Dense(2000, activation='relu', kernel_constraint=MaxNorm(4)))\n",
        "\n",
        "# Add a second dropout layer\n",
        "model_2.add(Dropout(0.2))\n",
        "\n",
        "# Add a third hidden Dense layer. This should have 1000 nodes and a 'relu' activation.\n",
        "model_2.add(Dense(1000, activation='relu', kernel_constraint=MaxNorm(4)))\n",
        "\n",
        "# Add the third dropout layer\n",
        "model_2.add(Dropout(0.2))\n",
        "\n",
        "# Finally, add an output layer, which is a Dense layer with 2 classes. Use sigmoid activation function for binary classification.\n",
        "model_2.add(Dense(1, activation='sigmoid'))\n",
        "\n",
        "# see the summary of the model\n",
        "model_2.summary()"
      ],
      "metadata": {
        "colab": {
          "base_uri": "https://localhost:8080/"
        },
        "id": "imuQQ61QiRvN",
        "outputId": "f1b8fb4f-c23c-424a-aff1-fd95c966c7d3"
      },
      "execution_count": null,
      "outputs": [
        {
          "output_type": "stream",
          "name": "stdout",
          "text": [
            "Model: \"sequential_2\"\n",
            "_________________________________________________________________\n",
            " Layer (type)                Output Shape              Param #   \n",
            "=================================================================\n",
            " flatten_2 (Flatten)         (None, 23)                0         \n",
            "                                                                 \n",
            " dense_4 (Dense)             (None, 4000)              96000     \n",
            "                                                                 \n",
            " dropout_3 (Dropout)         (None, 4000)              0         \n",
            "                                                                 \n",
            " dense_5 (Dense)             (None, 2000)              8002000   \n",
            "                                                                 \n",
            " dropout_4 (Dropout)         (None, 2000)              0         \n",
            "                                                                 \n",
            " dense_6 (Dense)             (None, 1000)              2001000   \n",
            "                                                                 \n",
            " dropout_5 (Dropout)         (None, 1000)              0         \n",
            "                                                                 \n",
            " dense_7 (Dense)             (None, 1)                 1001      \n",
            "                                                                 \n",
            "=================================================================\n",
            "Total params: 10100001 (38.53 MB)\n",
            "Trainable params: 10100001 (38.53 MB)\n",
            "Non-trainable params: 0 (0.00 Byte)\n",
            "_________________________________________________________________\n",
            "time: 230 ms (started: 2024-01-18 12:28:37 +00:00)\n"
          ]
        }
      ]
    },
    {
      "cell_type": "code",
      "source": [
        "model_2.compile(loss='binary_crossentropy', optimizer=SGD(learning_rate=0.00001, momentum=0.99), metrics=['accuracy'])\n"
      ],
      "metadata": {
        "colab": {
          "base_uri": "https://localhost:8080/"
        },
        "id": "BF2YZiyKjJbY",
        "outputId": "79bc5913-14d3-4a69-eb7e-15c3dd270073"
      },
      "execution_count": null,
      "outputs": [
        {
          "output_type": "stream",
          "name": "stdout",
          "text": [
            "time: 17 ms (started: 2024-01-18 12:30:46 +00:00)\n"
          ]
        }
      ]
    },
    {
      "cell_type": "code",
      "source": [
        "# Defines model callbacks\n",
        "model_path_2 = './model_dir/model_2.h5'\n",
        "my_callbacks_2 = [keras.callbacks.ModelCheckpoint(model_path_2, save_best_only=True, monitor='loss'),\n",
        "                keras.callbacks.EarlyStopping(patience=3, monitor='loss')\n",
        "                ]\n"
      ],
      "metadata": {
        "colab": {
          "base_uri": "https://localhost:8080/"
        },
        "id": "ta88jwghjXoE",
        "outputId": "3c73afae-31b4-4c79-9a0c-acc95f09f357"
      },
      "execution_count": null,
      "outputs": [
        {
          "output_type": "stream",
          "name": "stdout",
          "text": [
            "time: 526 µs (started: 2024-01-18 12:31:00 +00:00)\n"
          ]
        }
      ]
    },
    {
      "cell_type": "code",
      "source": [
        "\n",
        "# define the weights using the inverse of the ratio ~ 4:1\n",
        "weights = {0:1, 1:4}\n",
        "\n",
        "# fit the model\n",
        "history_2 = model_2.fit(X_train_ss, y_train, epochs=100, callbacks=[my_callbacks_2], class_weight=weights)"
      ],
      "metadata": {
        "colab": {
          "base_uri": "https://localhost:8080/"
        },
        "id": "H0qoxyXvja_n",
        "outputId": "a5f426ec-47ec-485c-9035-59e288dbc6cf"
      },
      "execution_count": null,
      "outputs": [
        {
          "metadata": {
            "tags": null
          },
          "name": "stdout",
          "output_type": "stream",
          "text": [
            "Epoch 1/100\n",
            "540/540 [==============================] - 55s 100ms/step - loss: 1.1226 - accuracy: 0.3785\n",
            "Epoch 2/100\n",
            "  1/540 [..............................] - ETA: 43s - loss: 1.1368 - accuracy: 0.3438"
          ]
        },
        {
          "metadata": {
            "tags": null
          },
          "name": "stderr",
          "output_type": "stream",
          "text": [
            "/usr/local/lib/python3.10/dist-packages/keras/src/engine/training.py:3103: UserWarning: You are saving your model as an HDF5 file via `model.save()`. This file format is considered legacy. We recommend using instead the native Keras format, e.g. `model.save('my_model.keras')`.\n",
            "  saving_api.save_model(\n"
          ]
        },
        {
          "output_type": "stream",
          "name": "stdout",
          "text": [
            "540/540 [==============================] - 47s 87ms/step - loss: 1.0837 - accuracy: 0.4525\n",
            "Epoch 3/100\n",
            "540/540 [==============================] - 45s 83ms/step - loss: 1.0593 - accuracy: 0.5505\n",
            "Epoch 4/100\n",
            "540/540 [==============================] - 44s 82ms/step - loss: 1.0430 - accuracy: 0.5900\n",
            "Epoch 5/100\n",
            "540/540 [==============================] - 46s 85ms/step - loss: 1.0306 - accuracy: 0.6300\n",
            "Epoch 6/100\n",
            "540/540 [==============================] - 44s 81ms/step - loss: 1.0197 - accuracy: 0.6488\n",
            "Epoch 7/100\n",
            "540/540 [==============================] - 45s 83ms/step - loss: 1.0098 - accuracy: 0.6466\n",
            "Epoch 8/100\n",
            "540/540 [==============================] - 44s 81ms/step - loss: 1.0029 - accuracy: 0.6692\n",
            "Epoch 9/100\n",
            "540/540 [==============================] - 44s 82ms/step - loss: 0.9981 - accuracy: 0.6714\n",
            "Epoch 10/100\n",
            "540/540 [==============================] - 44s 82ms/step - loss: 0.9916 - accuracy: 0.6845\n",
            "Epoch 11/100\n",
            "540/540 [==============================] - 44s 81ms/step - loss: 0.9886 - accuracy: 0.6954\n",
            "Epoch 12/100\n",
            "540/540 [==============================] - 45s 84ms/step - loss: 0.9846 - accuracy: 0.6957\n",
            "Epoch 13/100\n",
            "540/540 [==============================] - 45s 83ms/step - loss: 0.9809 - accuracy: 0.7044\n",
            "Epoch 14/100\n",
            "540/540 [==============================] - 55s 102ms/step - loss: 0.9782 - accuracy: 0.7152\n",
            "Epoch 15/100\n",
            "540/540 [==============================] - 46s 86ms/step - loss: 0.9755 - accuracy: 0.7152\n",
            "Epoch 16/100\n",
            "540/540 [==============================] - 45s 83ms/step - loss: 0.9730 - accuracy: 0.7202\n",
            "Epoch 17/100\n",
            "540/540 [==============================] - 45s 84ms/step - loss: 0.9706 - accuracy: 0.7212\n",
            "Epoch 18/100\n",
            "540/540 [==============================] - 45s 83ms/step - loss: 0.9706 - accuracy: 0.7232\n",
            "Epoch 19/100\n",
            "540/540 [==============================] - 43s 80ms/step - loss: 0.9679 - accuracy: 0.7273\n",
            "Epoch 20/100\n",
            "540/540 [==============================] - 45s 83ms/step - loss: 0.9651 - accuracy: 0.7256\n",
            "Epoch 21/100\n",
            "540/540 [==============================] - 43s 80ms/step - loss: 0.9650 - accuracy: 0.7284\n",
            "Epoch 22/100\n",
            "540/540 [==============================] - 42s 78ms/step - loss: 0.9631 - accuracy: 0.7257\n",
            "Epoch 23/100\n",
            "540/540 [==============================] - 44s 82ms/step - loss: 0.9614 - accuracy: 0.7285\n",
            "Epoch 24/100\n",
            "540/540 [==============================] - 44s 81ms/step - loss: 0.9599 - accuracy: 0.7344\n",
            "Epoch 25/100\n",
            "540/540 [==============================] - 44s 82ms/step - loss: 0.9574 - accuracy: 0.7322\n",
            "Epoch 26/100\n",
            "540/540 [==============================] - 45s 84ms/step - loss: 0.9571 - accuracy: 0.7282\n",
            "Epoch 27/100\n",
            "540/540 [==============================] - 44s 81ms/step - loss: 0.9557 - accuracy: 0.7333\n",
            "Epoch 28/100\n",
            "540/540 [==============================] - 55s 101ms/step - loss: 0.9553 - accuracy: 0.7279\n",
            "Epoch 29/100\n",
            "540/540 [==============================] - 48s 88ms/step - loss: 0.9551 - accuracy: 0.7291\n",
            "Epoch 30/100\n",
            "540/540 [==============================] - 47s 88ms/step - loss: 0.9524 - accuracy: 0.7341\n",
            "Epoch 31/100\n",
            "540/540 [==============================] - 49s 91ms/step - loss: 0.9507 - accuracy: 0.7325\n",
            "Epoch 32/100\n",
            "540/540 [==============================] - 47s 86ms/step - loss: 0.9474 - accuracy: 0.7339\n",
            "Epoch 33/100\n",
            "540/540 [==============================] - 44s 81ms/step - loss: 0.9497 - accuracy: 0.7319\n",
            "Epoch 34/100\n",
            "540/540 [==============================] - 43s 80ms/step - loss: 0.9499 - accuracy: 0.7309\n",
            "Epoch 35/100\n",
            "540/540 [==============================] - 42s 77ms/step - loss: 0.9472 - accuracy: 0.7336\n",
            "Epoch 36/100\n",
            "540/540 [==============================] - 42s 78ms/step - loss: 0.9475 - accuracy: 0.7257\n",
            "Epoch 37/100\n",
            "540/540 [==============================] - 42s 77ms/step - loss: 0.9444 - accuracy: 0.7330\n",
            "Epoch 38/100\n",
            "540/540 [==============================] - 42s 77ms/step - loss: 0.9450 - accuracy: 0.7361\n",
            "Epoch 39/100\n",
            "540/540 [==============================] - 42s 78ms/step - loss: 0.9442 - accuracy: 0.7292\n",
            "Epoch 40/100\n",
            "540/540 [==============================] - 42s 78ms/step - loss: 0.9398 - accuracy: 0.7343\n",
            "Epoch 41/100\n",
            "540/540 [==============================] - 43s 80ms/step - loss: 0.9424 - accuracy: 0.7287\n",
            "Epoch 42/100\n",
            " 91/540 [====>.........................] - ETA: 33s - loss: 0.9227 - accuracy: 0.7400"
          ]
        }
      ]
    },
    {
      "cell_type": "code",
      "source": [
        "loaded_model_2 = keras.models.load_model('./model_dir/model_2.h5')\n",
        "\n",
        "pred_prob_2 = loaded_model_2.predict(X_test_ss)\n",
        "nn_pred_2 = (pred_prob_2 > 0.5).astype(int)  # Apply threshold (e.g., 0.5 for binary classification)\n",
        "nn_acc_2 = accuracy_score(y_test, nn_pred_2)\n",
        "nn_f1_2 = f1_score(y_test, nn_pred_2)\n",
        "nn_roc_auc_2 = roc_auc_score(y_test, pred_prob_2)\n",
        "\n",
        "print(f'Accuracy score of ANN with class imbalance consideration is {nn_acc_2}', '\\n')\n",
        "print(f'ROC_AUC score of ANN with class imbalance consideration is {nn_roc_auc_2}', '\\n')\n",
        "print(f'The f1 score of ANN with class imbalance consideration is {nn_f1_2}', '\\n')\n",
        "print('The confusion matrix of ANN with class imbalance consideration is:', '\\n', f'{confusion_matrix(y_test, nn_pred_2)}')\n"
      ],
      "metadata": {
        "colab": {
          "base_uri": "https://localhost:8080/"
        },
        "id": "9dSnYutYjmkU",
        "outputId": "98e2df32-0703-4434-8282-b851fee2221a"
      },
      "execution_count": null,
      "outputs": [
        {
          "output_type": "stream",
          "name": "stdout",
          "text": [
            "94/94 [==============================] - 1s 14ms/step\n",
            "Accuracy score of ANN with class imbalance consideration is 0.7383333333333333 \n",
            "\n",
            "ROC_AUC score of ANN with class imbalance consideration is 0.7791098796913188 \n",
            "\n",
            "The f1 score of ANN with class imbalance consideration is 0.5268233875828813 \n",
            "\n",
            "The confusion matrix of ANN with class imbalance consideration is: \n",
            " [[1778  559]\n",
            " [ 226  437]]\n",
            "time: 3.28 s (started: 2024-01-18 13:41:26 +00:00)\n"
          ]
        }
      ]
    },
    {
      "cell_type": "code",
      "source": [
        "#MultiNomial Naive Bayes\n",
        "\n",
        "# import minmaxscalar\n",
        "from sklearn.preprocessing import MinMaxScaler\n",
        "\n",
        "# import the naive bayes classifier\n",
        "from sklearn.naive_bayes import MultinomialNB\n",
        "\n",
        "# import gridsearch cv\n",
        "from sklearn.model_selection import GridSearchCV\n",
        "\n",
        "# instantiate minmax scalar\n",
        "mms = MinMaxScaler()\n",
        "\n",
        "X_train_mm = mms.fit_transform(X_train)\n",
        "X_test_mm = mms.transform(X_test)\n",
        "\n",
        "# instantiate the classifier with default parameters\n",
        "mnb_model = MultinomialNB()\n",
        "\n",
        "# define search space\n",
        "space_mnb = dict()\n",
        "space_mnb['alpha'] = [0.1, 0.01, 0.001, 0.0001, 0.00001, 1.0, 2.0]\n",
        "\n",
        "# grid search the hyper parameter\n",
        "mnb_search = GridSearchCV(estimator=mnb_model, param_grid=space_mnb, cv=10, n_jobs=-1)\n",
        "\n",
        "\n",
        "# fit the mnb classifier on the train set\n",
        "mnb_result = mnb_search.fit(X_train_mm, y_train)\n",
        "\n",
        "# print the best score from the search\n",
        "print(f'The best score from the search is {mnb_result.best_score_}', '\\n')\n",
        "\n",
        "# print the best parameter\n",
        "print(f'The best parameter from the search is {mnb_result.best_params_}')"
      ],
      "metadata": {
        "colab": {
          "base_uri": "https://localhost:8080/"
        },
        "id": "dzr1SNk7zqFG",
        "outputId": "785bdee9-1295-4ae4-b35b-623ad032f250"
      },
      "execution_count": null,
      "outputs": [
        {
          "output_type": "stream",
          "name": "stdout",
          "text": [
            "The best score from the search is 0.7762152777777777 \n",
            "\n",
            "The best parameter from the search is {'alpha': 0.1}\n",
            "time: 2.97 s (started: 2024-01-18 13:42:24 +00:00)\n"
          ]
        }
      ]
    },
    {
      "cell_type": "code",
      "source": [
        "#XGB\n",
        "# get the ratio of class values in the default column\n",
        "from collections import Counter\n",
        "\n",
        "counter = Counter(y)\n",
        "\n",
        "estimate = counter[0] / counter[1]\n",
        "estimate"
      ],
      "metadata": {
        "colab": {
          "base_uri": "https://localhost:8080/"
        },
        "id": "6AnmBlyyz70l",
        "outputId": "35664e88-0484-444d-f09c-d3aed374cd7c"
      },
      "execution_count": null,
      "outputs": [
        {
          "output_type": "execute_result",
          "data": {
            "text/plain": [
              "3.5207956600361663"
            ]
          },
          "metadata": {},
          "execution_count": 30
        },
        {
          "output_type": "stream",
          "name": "stdout",
          "text": [
            "time: 13.6 ms (started: 2024-01-18 13:43:53 +00:00)\n"
          ]
        }
      ]
    },
    {
      "cell_type": "code",
      "source": [
        "import xgboost as xgb\n",
        "\n",
        "# instantiate an XGB classifier that accounts for class imbalance\n",
        "xgb_model= xgb.XGBClassifier(scale_pos_weight=round(estimate, 1))\n",
        "\n",
        "xgb_model.fit(X_train_ss, y_train)\n",
        "\n",
        "xgb_pred = xgb_model.predict(X_test_ss)\n",
        "\n",
        "xgb_acc = accuracy_score(y_test, xgb_pred)\n",
        "xgb_f1 = f1_score(y_test, xgb_pred)\n",
        "xgb_roc_auc = roc_auc_score(y_test, xgb_pred)\n",
        "\n",
        "\n",
        "print(f'Accuracy score of XGB is {xgb_acc}', '\\n')\n",
        "print(f'ROC_AUC score of XGB is {xgb_roc_auc}', '\\n')\n",
        "print(f'The f1 score of XGB is {xgb_f1}', '\\n')\n",
        "print('The confusion matrix of XGB is:', '\\n', f'{confusion_matrix(y_test, xgb_pred)}',)"
      ],
      "metadata": {
        "colab": {
          "base_uri": "https://localhost:8080/"
        },
        "id": "qo45isEq0GX4",
        "outputId": "f175d5ab-0bfc-44c9-9283-f58378c63230"
      },
      "execution_count": null,
      "outputs": [
        {
          "output_type": "stream",
          "name": "stdout",
          "text": [
            "Accuracy score of XGB is 0.7876666666666666 \n",
            "\n",
            "ROC_AUC score of XGB is 0.6244063143179658 \n",
            "\n",
            "The f1 score of XGB is 0.4085422469823584 \n",
            "\n",
            "The confusion matrix of XGB is: \n",
            " [[2143  194]\n",
            " [ 443  220]]\n",
            "time: 683 ms (started: 2024-01-18 13:44:06 +00:00)\n"
          ]
        }
      ]
    },
    {
      "cell_type": "code",
      "source": [
        "# check the shape of the data\n",
        "data.shape"
      ],
      "metadata": {
        "colab": {
          "base_uri": "https://localhost:8080/"
        },
        "id": "z_axpRzu0ODx",
        "outputId": "d69db381-629d-4fa9-8fd1-baad2d552d78"
      },
      "execution_count": null,
      "outputs": [
        {
          "output_type": "execute_result",
          "data": {
            "text/plain": [
              "(30000, 25)"
            ]
          },
          "metadata": {},
          "execution_count": 32
        },
        {
          "output_type": "stream",
          "name": "stdout",
          "text": [
            "time: 3.16 ms (started: 2024-01-18 13:44:34 +00:00)\n"
          ]
        }
      ]
    },
    {
      "cell_type": "code",
      "source": [
        "# Isolate the predicted feature\n",
        "target = data['default']\n",
        "\n",
        "# check\n",
        "print(target.shape)\n",
        "\n",
        "# drop ID and default columns\n",
        "data.drop(['ID', 'default'], axis=1, inplace=True)\n",
        "\n",
        "# check\n",
        "data.head()"
      ],
      "metadata": {
        "colab": {
          "base_uri": "https://localhost:8080/",
          "height": 292
        },
        "id": "QKKTiM660Qpy",
        "outputId": "ef64d7fe-e018-4911-cf84-03b35e92a320"
      },
      "execution_count": null,
      "outputs": [
        {
          "output_type": "stream",
          "name": "stdout",
          "text": [
            "(30000,)\n"
          ]
        },
        {
          "output_type": "execute_result",
          "data": {
            "text/plain": [
              "   LIMIT_BAL  SEX  EDUCATION  MARRIAGE  AGE  PAY_1  PAY_2  PAY_3  PAY_4  \\\n",
              "0      20000    2          2         1   24      2      2     -1     -1   \n",
              "1     120000    2          2         2   26     -1      2      0      0   \n",
              "2      90000    2          2         2   34      0      0      0      0   \n",
              "3      50000    2          2         1   37      0      0      0      0   \n",
              "4      50000    1          2         1   57     -1      0     -1      0   \n",
              "\n",
              "   PAY_5  ...  BILL_AMT3  BILL_AMT4  BILL_AMT5  BILL_AMT6  PAY_AMT1  PAY_AMT2  \\\n",
              "0     -2  ...        689          0          0          0         0       689   \n",
              "1      0  ...       2682       3272       3455       3261         0      1000   \n",
              "2      0  ...      13559      14331      14948      15549      1518      1500   \n",
              "3      0  ...      49291      28314      28959      29547      2000      2019   \n",
              "4      0  ...      35835      20940      19146      19131      2000     36681   \n",
              "\n",
              "   PAY_AMT3  PAY_AMT4  PAY_AMT5  PAY_AMT6  \n",
              "0         0         0         0         0  \n",
              "1      1000      1000         0      2000  \n",
              "2      1000      1000      1000      5000  \n",
              "3      1200      1100      1069      1000  \n",
              "4     10000      9000       689       679  \n",
              "\n",
              "[5 rows x 23 columns]"
            ],
            "text/html": [
              "\n",
              "  <div id=\"df-8c8b2890-266a-4a6a-889a-16665c9e6b09\" class=\"colab-df-container\">\n",
              "    <div>\n",
              "<style scoped>\n",
              "    .dataframe tbody tr th:only-of-type {\n",
              "        vertical-align: middle;\n",
              "    }\n",
              "\n",
              "    .dataframe tbody tr th {\n",
              "        vertical-align: top;\n",
              "    }\n",
              "\n",
              "    .dataframe thead th {\n",
              "        text-align: right;\n",
              "    }\n",
              "</style>\n",
              "<table border=\"1\" class=\"dataframe\">\n",
              "  <thead>\n",
              "    <tr style=\"text-align: right;\">\n",
              "      <th></th>\n",
              "      <th>LIMIT_BAL</th>\n",
              "      <th>SEX</th>\n",
              "      <th>EDUCATION</th>\n",
              "      <th>MARRIAGE</th>\n",
              "      <th>AGE</th>\n",
              "      <th>PAY_1</th>\n",
              "      <th>PAY_2</th>\n",
              "      <th>PAY_3</th>\n",
              "      <th>PAY_4</th>\n",
              "      <th>PAY_5</th>\n",
              "      <th>...</th>\n",
              "      <th>BILL_AMT3</th>\n",
              "      <th>BILL_AMT4</th>\n",
              "      <th>BILL_AMT5</th>\n",
              "      <th>BILL_AMT6</th>\n",
              "      <th>PAY_AMT1</th>\n",
              "      <th>PAY_AMT2</th>\n",
              "      <th>PAY_AMT3</th>\n",
              "      <th>PAY_AMT4</th>\n",
              "      <th>PAY_AMT5</th>\n",
              "      <th>PAY_AMT6</th>\n",
              "    </tr>\n",
              "  </thead>\n",
              "  <tbody>\n",
              "    <tr>\n",
              "      <th>0</th>\n",
              "      <td>20000</td>\n",
              "      <td>2</td>\n",
              "      <td>2</td>\n",
              "      <td>1</td>\n",
              "      <td>24</td>\n",
              "      <td>2</td>\n",
              "      <td>2</td>\n",
              "      <td>-1</td>\n",
              "      <td>-1</td>\n",
              "      <td>-2</td>\n",
              "      <td>...</td>\n",
              "      <td>689</td>\n",
              "      <td>0</td>\n",
              "      <td>0</td>\n",
              "      <td>0</td>\n",
              "      <td>0</td>\n",
              "      <td>689</td>\n",
              "      <td>0</td>\n",
              "      <td>0</td>\n",
              "      <td>0</td>\n",
              "      <td>0</td>\n",
              "    </tr>\n",
              "    <tr>\n",
              "      <th>1</th>\n",
              "      <td>120000</td>\n",
              "      <td>2</td>\n",
              "      <td>2</td>\n",
              "      <td>2</td>\n",
              "      <td>26</td>\n",
              "      <td>-1</td>\n",
              "      <td>2</td>\n",
              "      <td>0</td>\n",
              "      <td>0</td>\n",
              "      <td>0</td>\n",
              "      <td>...</td>\n",
              "      <td>2682</td>\n",
              "      <td>3272</td>\n",
              "      <td>3455</td>\n",
              "      <td>3261</td>\n",
              "      <td>0</td>\n",
              "      <td>1000</td>\n",
              "      <td>1000</td>\n",
              "      <td>1000</td>\n",
              "      <td>0</td>\n",
              "      <td>2000</td>\n",
              "    </tr>\n",
              "    <tr>\n",
              "      <th>2</th>\n",
              "      <td>90000</td>\n",
              "      <td>2</td>\n",
              "      <td>2</td>\n",
              "      <td>2</td>\n",
              "      <td>34</td>\n",
              "      <td>0</td>\n",
              "      <td>0</td>\n",
              "      <td>0</td>\n",
              "      <td>0</td>\n",
              "      <td>0</td>\n",
              "      <td>...</td>\n",
              "      <td>13559</td>\n",
              "      <td>14331</td>\n",
              "      <td>14948</td>\n",
              "      <td>15549</td>\n",
              "      <td>1518</td>\n",
              "      <td>1500</td>\n",
              "      <td>1000</td>\n",
              "      <td>1000</td>\n",
              "      <td>1000</td>\n",
              "      <td>5000</td>\n",
              "    </tr>\n",
              "    <tr>\n",
              "      <th>3</th>\n",
              "      <td>50000</td>\n",
              "      <td>2</td>\n",
              "      <td>2</td>\n",
              "      <td>1</td>\n",
              "      <td>37</td>\n",
              "      <td>0</td>\n",
              "      <td>0</td>\n",
              "      <td>0</td>\n",
              "      <td>0</td>\n",
              "      <td>0</td>\n",
              "      <td>...</td>\n",
              "      <td>49291</td>\n",
              "      <td>28314</td>\n",
              "      <td>28959</td>\n",
              "      <td>29547</td>\n",
              "      <td>2000</td>\n",
              "      <td>2019</td>\n",
              "      <td>1200</td>\n",
              "      <td>1100</td>\n",
              "      <td>1069</td>\n",
              "      <td>1000</td>\n",
              "    </tr>\n",
              "    <tr>\n",
              "      <th>4</th>\n",
              "      <td>50000</td>\n",
              "      <td>1</td>\n",
              "      <td>2</td>\n",
              "      <td>1</td>\n",
              "      <td>57</td>\n",
              "      <td>-1</td>\n",
              "      <td>0</td>\n",
              "      <td>-1</td>\n",
              "      <td>0</td>\n",
              "      <td>0</td>\n",
              "      <td>...</td>\n",
              "      <td>35835</td>\n",
              "      <td>20940</td>\n",
              "      <td>19146</td>\n",
              "      <td>19131</td>\n",
              "      <td>2000</td>\n",
              "      <td>36681</td>\n",
              "      <td>10000</td>\n",
              "      <td>9000</td>\n",
              "      <td>689</td>\n",
              "      <td>679</td>\n",
              "    </tr>\n",
              "  </tbody>\n",
              "</table>\n",
              "<p>5 rows × 23 columns</p>\n",
              "</div>\n",
              "    <div class=\"colab-df-buttons\">\n",
              "\n",
              "  <div class=\"colab-df-container\">\n",
              "    <button class=\"colab-df-convert\" onclick=\"convertToInteractive('df-8c8b2890-266a-4a6a-889a-16665c9e6b09')\"\n",
              "            title=\"Convert this dataframe to an interactive table.\"\n",
              "            style=\"display:none;\">\n",
              "\n",
              "  <svg xmlns=\"http://www.w3.org/2000/svg\" height=\"24px\" viewBox=\"0 -960 960 960\">\n",
              "    <path d=\"M120-120v-720h720v720H120Zm60-500h600v-160H180v160Zm220 220h160v-160H400v160Zm0 220h160v-160H400v160ZM180-400h160v-160H180v160Zm440 0h160v-160H620v160ZM180-180h160v-160H180v160Zm440 0h160v-160H620v160Z\"/>\n",
              "  </svg>\n",
              "    </button>\n",
              "\n",
              "  <style>\n",
              "    .colab-df-container {\n",
              "      display:flex;\n",
              "      gap: 12px;\n",
              "    }\n",
              "\n",
              "    .colab-df-convert {\n",
              "      background-color: #E8F0FE;\n",
              "      border: none;\n",
              "      border-radius: 50%;\n",
              "      cursor: pointer;\n",
              "      display: none;\n",
              "      fill: #1967D2;\n",
              "      height: 32px;\n",
              "      padding: 0 0 0 0;\n",
              "      width: 32px;\n",
              "    }\n",
              "\n",
              "    .colab-df-convert:hover {\n",
              "      background-color: #E2EBFA;\n",
              "      box-shadow: 0px 1px 2px rgba(60, 64, 67, 0.3), 0px 1px 3px 1px rgba(60, 64, 67, 0.15);\n",
              "      fill: #174EA6;\n",
              "    }\n",
              "\n",
              "    .colab-df-buttons div {\n",
              "      margin-bottom: 4px;\n",
              "    }\n",
              "\n",
              "    [theme=dark] .colab-df-convert {\n",
              "      background-color: #3B4455;\n",
              "      fill: #D2E3FC;\n",
              "    }\n",
              "\n",
              "    [theme=dark] .colab-df-convert:hover {\n",
              "      background-color: #434B5C;\n",
              "      box-shadow: 0px 1px 3px 1px rgba(0, 0, 0, 0.15);\n",
              "      filter: drop-shadow(0px 1px 2px rgba(0, 0, 0, 0.3));\n",
              "      fill: #FFFFFF;\n",
              "    }\n",
              "  </style>\n",
              "\n",
              "    <script>\n",
              "      const buttonEl =\n",
              "        document.querySelector('#df-8c8b2890-266a-4a6a-889a-16665c9e6b09 button.colab-df-convert');\n",
              "      buttonEl.style.display =\n",
              "        google.colab.kernel.accessAllowed ? 'block' : 'none';\n",
              "\n",
              "      async function convertToInteractive(key) {\n",
              "        const element = document.querySelector('#df-8c8b2890-266a-4a6a-889a-16665c9e6b09');\n",
              "        const dataTable =\n",
              "          await google.colab.kernel.invokeFunction('convertToInteractive',\n",
              "                                                    [key], {});\n",
              "        if (!dataTable) return;\n",
              "\n",
              "        const docLinkHtml = 'Like what you see? Visit the ' +\n",
              "          '<a target=\"_blank\" href=https://colab.research.google.com/notebooks/data_table.ipynb>data table notebook</a>'\n",
              "          + ' to learn more about interactive tables.';\n",
              "        element.innerHTML = '';\n",
              "        dataTable['output_type'] = 'display_data';\n",
              "        await google.colab.output.renderOutput(dataTable, element);\n",
              "        const docLink = document.createElement('div');\n",
              "        docLink.innerHTML = docLinkHtml;\n",
              "        element.appendChild(docLink);\n",
              "      }\n",
              "    </script>\n",
              "  </div>\n",
              "\n",
              "\n",
              "<div id=\"df-8f2a7e22-b6be-4001-87ca-9bf3abcb5b6a\">\n",
              "  <button class=\"colab-df-quickchart\" onclick=\"quickchart('df-8f2a7e22-b6be-4001-87ca-9bf3abcb5b6a')\"\n",
              "            title=\"Suggest charts\"\n",
              "            style=\"display:none;\">\n",
              "\n",
              "<svg xmlns=\"http://www.w3.org/2000/svg\" height=\"24px\"viewBox=\"0 0 24 24\"\n",
              "     width=\"24px\">\n",
              "    <g>\n",
              "        <path d=\"M19 3H5c-1.1 0-2 .9-2 2v14c0 1.1.9 2 2 2h14c1.1 0 2-.9 2-2V5c0-1.1-.9-2-2-2zM9 17H7v-7h2v7zm4 0h-2V7h2v10zm4 0h-2v-4h2v4z\"/>\n",
              "    </g>\n",
              "</svg>\n",
              "  </button>\n",
              "\n",
              "<style>\n",
              "  .colab-df-quickchart {\n",
              "      --bg-color: #E8F0FE;\n",
              "      --fill-color: #1967D2;\n",
              "      --hover-bg-color: #E2EBFA;\n",
              "      --hover-fill-color: #174EA6;\n",
              "      --disabled-fill-color: #AAA;\n",
              "      --disabled-bg-color: #DDD;\n",
              "  }\n",
              "\n",
              "  [theme=dark] .colab-df-quickchart {\n",
              "      --bg-color: #3B4455;\n",
              "      --fill-color: #D2E3FC;\n",
              "      --hover-bg-color: #434B5C;\n",
              "      --hover-fill-color: #FFFFFF;\n",
              "      --disabled-bg-color: #3B4455;\n",
              "      --disabled-fill-color: #666;\n",
              "  }\n",
              "\n",
              "  .colab-df-quickchart {\n",
              "    background-color: var(--bg-color);\n",
              "    border: none;\n",
              "    border-radius: 50%;\n",
              "    cursor: pointer;\n",
              "    display: none;\n",
              "    fill: var(--fill-color);\n",
              "    height: 32px;\n",
              "    padding: 0;\n",
              "    width: 32px;\n",
              "  }\n",
              "\n",
              "  .colab-df-quickchart:hover {\n",
              "    background-color: var(--hover-bg-color);\n",
              "    box-shadow: 0 1px 2px rgba(60, 64, 67, 0.3), 0 1px 3px 1px rgba(60, 64, 67, 0.15);\n",
              "    fill: var(--button-hover-fill-color);\n",
              "  }\n",
              "\n",
              "  .colab-df-quickchart-complete:disabled,\n",
              "  .colab-df-quickchart-complete:disabled:hover {\n",
              "    background-color: var(--disabled-bg-color);\n",
              "    fill: var(--disabled-fill-color);\n",
              "    box-shadow: none;\n",
              "  }\n",
              "\n",
              "  .colab-df-spinner {\n",
              "    border: 2px solid var(--fill-color);\n",
              "    border-color: transparent;\n",
              "    border-bottom-color: var(--fill-color);\n",
              "    animation:\n",
              "      spin 1s steps(1) infinite;\n",
              "  }\n",
              "\n",
              "  @keyframes spin {\n",
              "    0% {\n",
              "      border-color: transparent;\n",
              "      border-bottom-color: var(--fill-color);\n",
              "      border-left-color: var(--fill-color);\n",
              "    }\n",
              "    20% {\n",
              "      border-color: transparent;\n",
              "      border-left-color: var(--fill-color);\n",
              "      border-top-color: var(--fill-color);\n",
              "    }\n",
              "    30% {\n",
              "      border-color: transparent;\n",
              "      border-left-color: var(--fill-color);\n",
              "      border-top-color: var(--fill-color);\n",
              "      border-right-color: var(--fill-color);\n",
              "    }\n",
              "    40% {\n",
              "      border-color: transparent;\n",
              "      border-right-color: var(--fill-color);\n",
              "      border-top-color: var(--fill-color);\n",
              "    }\n",
              "    60% {\n",
              "      border-color: transparent;\n",
              "      border-right-color: var(--fill-color);\n",
              "    }\n",
              "    80% {\n",
              "      border-color: transparent;\n",
              "      border-right-color: var(--fill-color);\n",
              "      border-bottom-color: var(--fill-color);\n",
              "    }\n",
              "    90% {\n",
              "      border-color: transparent;\n",
              "      border-bottom-color: var(--fill-color);\n",
              "    }\n",
              "  }\n",
              "</style>\n",
              "\n",
              "  <script>\n",
              "    async function quickchart(key) {\n",
              "      const quickchartButtonEl =\n",
              "        document.querySelector('#' + key + ' button');\n",
              "      quickchartButtonEl.disabled = true;  // To prevent multiple clicks.\n",
              "      quickchartButtonEl.classList.add('colab-df-spinner');\n",
              "      try {\n",
              "        const charts = await google.colab.kernel.invokeFunction(\n",
              "            'suggestCharts', [key], {});\n",
              "      } catch (error) {\n",
              "        console.error('Error during call to suggestCharts:', error);\n",
              "      }\n",
              "      quickchartButtonEl.classList.remove('colab-df-spinner');\n",
              "      quickchartButtonEl.classList.add('colab-df-quickchart-complete');\n",
              "    }\n",
              "    (() => {\n",
              "      let quickchartButtonEl =\n",
              "        document.querySelector('#df-8f2a7e22-b6be-4001-87ca-9bf3abcb5b6a button');\n",
              "      quickchartButtonEl.style.display =\n",
              "        google.colab.kernel.accessAllowed ? 'block' : 'none';\n",
              "    })();\n",
              "  </script>\n",
              "</div>\n",
              "\n",
              "    </div>\n",
              "  </div>\n"
            ]
          },
          "metadata": {},
          "execution_count": 33
        },
        {
          "output_type": "stream",
          "name": "stdout",
          "text": [
            "time: 39 ms (started: 2024-01-18 13:44:46 +00:00)\n"
          ]
        }
      ]
    },
    {
      "cell_type": "code",
      "source": [
        "# check the values of the education column\n",
        "data['EDUCATION'].value_counts()"
      ],
      "metadata": {
        "colab": {
          "base_uri": "https://localhost:8080/"
        },
        "id": "O-JHdx8R0UL3",
        "outputId": "8957f274-27a2-40f5-b0d7-7fb66035324c"
      },
      "execution_count": null,
      "outputs": [
        {
          "output_type": "execute_result",
          "data": {
            "text/plain": [
              "2    14030\n",
              "1    10585\n",
              "3     4917\n",
              "5      280\n",
              "4      123\n",
              "6       51\n",
              "0       14\n",
              "Name: EDUCATION, dtype: int64"
            ]
          },
          "metadata": {},
          "execution_count": 34
        },
        {
          "output_type": "stream",
          "name": "stdout",
          "text": [
            "time: 8.98 ms (started: 2024-01-18 13:45:02 +00:00)\n"
          ]
        }
      ]
    },
    {
      "cell_type": "code",
      "source": [
        "# bin values of the education column\n",
        "data[(data['EDUCATION'] == 0) | (data['EDUCATION'] == 5) | (data['EDUCATION'] == 6)] = 4\n",
        "\n",
        "# check\n",
        "data['EDUCATION'].value_counts()"
      ],
      "metadata": {
        "colab": {
          "base_uri": "https://localhost:8080/"
        },
        "id": "ib_5xJ6A0Xd1",
        "outputId": "c351aaf0-ccb2-4dea-9dce-2615aa828986"
      },
      "execution_count": null,
      "outputs": [
        {
          "output_type": "execute_result",
          "data": {
            "text/plain": [
              "2    14030\n",
              "1    10585\n",
              "3     4917\n",
              "4      468\n",
              "Name: EDUCATION, dtype: int64"
            ]
          },
          "metadata": {},
          "execution_count": 35
        },
        {
          "output_type": "stream",
          "name": "stdout",
          "text": [
            "time: 11.4 ms (started: 2024-01-18 13:45:15 +00:00)\n"
          ]
        }
      ]
    },
    {
      "cell_type": "code",
      "source": [
        "#Preprocess the data\n",
        "# import the scaler\n",
        "from sklearn.preprocessing import StandardScaler\n",
        "\n",
        "# import joblib for saving and loading binary files\n",
        "from  joblib import dump\n",
        "from joblib import load\n",
        "\n",
        "# instantiate the scaler\n",
        "scaler = StandardScaler()\n",
        "\n",
        "# scale the features data using standard scaler\n",
        "scaler.fit(data)\n",
        "\n",
        "# save the scaler\n",
        "dump(scaler, 'scaler.joblib')"
      ],
      "metadata": {
        "colab": {
          "base_uri": "https://localhost:8080/"
        },
        "id": "hZuYjqfv0agl",
        "outputId": "d2a1ad61-4cfc-4813-afe4-f25c9c3dfb96"
      },
      "execution_count": null,
      "outputs": [
        {
          "output_type": "execute_result",
          "data": {
            "text/plain": [
              "['scaler.joblib']"
            ]
          },
          "metadata": {},
          "execution_count": 36
        },
        {
          "output_type": "stream",
          "name": "stdout",
          "text": [
            "time: 17 ms (started: 2024-01-18 13:45:41 +00:00)\n"
          ]
        }
      ]
    },
    {
      "cell_type": "code",
      "source": [
        "# check the scaler mean and standard deviations\n",
        "print(scaler.mean_, '\\n'); scaler.scale_\n"
      ],
      "metadata": {
        "colab": {
          "base_uri": "https://localhost:8080/"
        },
        "id": "Fu1qjs480gv5",
        "outputId": "a78bd336-0123-4651-9d9a-0ee883ef9cba"
      },
      "execution_count": null,
      "outputs": [
        {
          "output_type": "stream",
          "name": "stdout",
          "text": [
            "[ 1.65561502e+05  1.63100000e+00  1.84226667e+00  1.58076667e+00\n",
            "  3.51064667e+01  3.09666667e-02 -8.39333333e-02 -1.15633333e-01\n",
            " -1.70066667e-01 -2.15200000e-01 -2.38500000e-01  5.03164653e+04\n",
            "  4.83344410e+04  4.62154227e+04  4.25832832e+04  3.97323530e+04\n",
            "  3.83719462e+04  5.58849837e+03  5.82144120e+03  5.13657327e+03\n",
            "  4.76963970e+03  4.73512893e+03  5.11648983e+03] \n",
            "\n"
          ]
        },
        {
          "output_type": "execute_result",
          "data": {
            "text/plain": [
              "array([1.30360641e+05, 5.49398762e-01, 7.44482054e-01, 5.80755323e-01,\n",
              "       9.75462958e+00, 1.19747278e+00, 1.27164796e+00, 1.27318325e+00,\n",
              "       1.24945748e+00, 1.21784877e+00, 1.23359275e+00, 7.31004605e+04,\n",
              "       7.06607261e+04, 6.88607994e+04, 6.39480431e+04, 6.04612734e+04,\n",
              "       5.92820578e+04, 1.64941099e+04, 2.29447389e+04, 1.74765097e+04,\n",
              "       1.56169251e+04, 1.51522715e+04, 1.75499039e+04])"
            ]
          },
          "metadata": {},
          "execution_count": 37
        },
        {
          "output_type": "stream",
          "name": "stdout",
          "text": [
            "time: 9.2 ms (started: 2024-01-18 13:45:51 +00:00)\n"
          ]
        }
      ]
    },
    {
      "cell_type": "code",
      "source": [
        "\n",
        "# load the saved scaler\n",
        "load_scaler = load('scaler.joblib')\n",
        "\n",
        "# check\n",
        "load_scaler\n"
      ],
      "metadata": {
        "colab": {
          "base_uri": "https://localhost:8080/",
          "height": 93
        },
        "id": "Ra2FSAac0ja7",
        "outputId": "351f2e7c-45de-4b64-83f7-0191d839c0b2"
      },
      "execution_count": null,
      "outputs": [
        {
          "output_type": "execute_result",
          "data": {
            "text/plain": [
              "StandardScaler()"
            ],
            "text/html": [
              "<style>#sk-container-id-1 {color: black;background-color: white;}#sk-container-id-1 pre{padding: 0;}#sk-container-id-1 div.sk-toggleable {background-color: white;}#sk-container-id-1 label.sk-toggleable__label {cursor: pointer;display: block;width: 100%;margin-bottom: 0;padding: 0.3em;box-sizing: border-box;text-align: center;}#sk-container-id-1 label.sk-toggleable__label-arrow:before {content: \"▸\";float: left;margin-right: 0.25em;color: #696969;}#sk-container-id-1 label.sk-toggleable__label-arrow:hover:before {color: black;}#sk-container-id-1 div.sk-estimator:hover label.sk-toggleable__label-arrow:before {color: black;}#sk-container-id-1 div.sk-toggleable__content {max-height: 0;max-width: 0;overflow: hidden;text-align: left;background-color: #f0f8ff;}#sk-container-id-1 div.sk-toggleable__content pre {margin: 0.2em;color: black;border-radius: 0.25em;background-color: #f0f8ff;}#sk-container-id-1 input.sk-toggleable__control:checked~div.sk-toggleable__content {max-height: 200px;max-width: 100%;overflow: auto;}#sk-container-id-1 input.sk-toggleable__control:checked~label.sk-toggleable__label-arrow:before {content: \"▾\";}#sk-container-id-1 div.sk-estimator input.sk-toggleable__control:checked~label.sk-toggleable__label {background-color: #d4ebff;}#sk-container-id-1 div.sk-label input.sk-toggleable__control:checked~label.sk-toggleable__label {background-color: #d4ebff;}#sk-container-id-1 input.sk-hidden--visually {border: 0;clip: rect(1px 1px 1px 1px);clip: rect(1px, 1px, 1px, 1px);height: 1px;margin: -1px;overflow: hidden;padding: 0;position: absolute;width: 1px;}#sk-container-id-1 div.sk-estimator {font-family: monospace;background-color: #f0f8ff;border: 1px dotted black;border-radius: 0.25em;box-sizing: border-box;margin-bottom: 0.5em;}#sk-container-id-1 div.sk-estimator:hover {background-color: #d4ebff;}#sk-container-id-1 div.sk-parallel-item::after {content: \"\";width: 100%;border-bottom: 1px solid gray;flex-grow: 1;}#sk-container-id-1 div.sk-label:hover label.sk-toggleable__label {background-color: #d4ebff;}#sk-container-id-1 div.sk-serial::before {content: \"\";position: absolute;border-left: 1px solid gray;box-sizing: border-box;top: 0;bottom: 0;left: 50%;z-index: 0;}#sk-container-id-1 div.sk-serial {display: flex;flex-direction: column;align-items: center;background-color: white;padding-right: 0.2em;padding-left: 0.2em;position: relative;}#sk-container-id-1 div.sk-item {position: relative;z-index: 1;}#sk-container-id-1 div.sk-parallel {display: flex;align-items: stretch;justify-content: center;background-color: white;position: relative;}#sk-container-id-1 div.sk-item::before, #sk-container-id-1 div.sk-parallel-item::before {content: \"\";position: absolute;border-left: 1px solid gray;box-sizing: border-box;top: 0;bottom: 0;left: 50%;z-index: -1;}#sk-container-id-1 div.sk-parallel-item {display: flex;flex-direction: column;z-index: 1;position: relative;background-color: white;}#sk-container-id-1 div.sk-parallel-item:first-child::after {align-self: flex-end;width: 50%;}#sk-container-id-1 div.sk-parallel-item:last-child::after {align-self: flex-start;width: 50%;}#sk-container-id-1 div.sk-parallel-item:only-child::after {width: 0;}#sk-container-id-1 div.sk-dashed-wrapped {border: 1px dashed gray;margin: 0 0.4em 0.5em 0.4em;box-sizing: border-box;padding-bottom: 0.4em;background-color: white;}#sk-container-id-1 div.sk-label label {font-family: monospace;font-weight: bold;display: inline-block;line-height: 1.2em;}#sk-container-id-1 div.sk-label-container {text-align: center;}#sk-container-id-1 div.sk-container {/* jupyter's `normalize.less` sets `[hidden] { display: none; }` but bootstrap.min.css set `[hidden] { display: none !important; }` so we also need the `!important` here to be able to override the default hidden behavior on the sphinx rendered scikit-learn.org. See: https://github.com/scikit-learn/scikit-learn/issues/21755 */display: inline-block !important;position: relative;}#sk-container-id-1 div.sk-text-repr-fallback {display: none;}</style><div id=\"sk-container-id-1\" class=\"sk-top-container\"><div class=\"sk-text-repr-fallback\"><pre>StandardScaler()</pre><b>In a Jupyter environment, please rerun this cell to show the HTML representation or trust the notebook. <br />On GitHub, the HTML representation is unable to render, please try loading this page with nbviewer.org.</b></div><div class=\"sk-container\" hidden><div class=\"sk-item\"><div class=\"sk-estimator sk-toggleable\"><input class=\"sk-toggleable__control sk-hidden--visually\" id=\"sk-estimator-id-1\" type=\"checkbox\" checked><label for=\"sk-estimator-id-1\" class=\"sk-toggleable__label sk-toggleable__label-arrow\">StandardScaler</label><div class=\"sk-toggleable__content\"><pre>StandardScaler()</pre></div></div></div></div></div>"
            ]
          },
          "metadata": {},
          "execution_count": 38
        },
        {
          "output_type": "stream",
          "name": "stdout",
          "text": [
            "time: 10.3 ms (started: 2024-01-18 13:46:02 +00:00)\n"
          ]
        }
      ]
    },
    {
      "cell_type": "code",
      "source": [
        "# transform the entire data\n",
        "scaled_data = load_scaler.transform(data)\n",
        "\n",
        "# check\n",
        "scaled_data"
      ],
      "metadata": {
        "colab": {
          "base_uri": "https://localhost:8080/"
        },
        "id": "bbRLu60t0omv",
        "outputId": "d558c318-a487-48b4-a2de-fea23c3c7bc4"
      },
      "execution_count": null,
      "outputs": [
        {
          "output_type": "execute_result",
          "data": {
            "text/plain": [
              "array([[-1.11660622,  0.6716433 ,  0.21186989, ..., -0.30541478,\n",
              "        -0.31250291, -0.29153948],\n",
              "       [-0.34950351,  0.6716433 ,  0.21186989, ..., -0.24138169,\n",
              "        -0.31250291, -0.17757874],\n",
              "       [-0.57963432,  0.6716433 ,  0.21186989, ..., -0.24138169,\n",
              "        -0.2465062 , -0.00663763],\n",
              "       ...,\n",
              "       [-1.03989595, -1.14852825,  0.21186989, ..., -0.03647579,\n",
              "        -0.1805095 , -0.11490033],\n",
              "       [-0.65634459, -1.14852825,  1.55508562, ..., -0.18208704,\n",
              "         3.1829466 , -0.18874689],\n",
              "       [-0.8864754 , -1.14852825,  0.21186989, ..., -0.24138169,\n",
              "        -0.2465062 , -0.23455911]])"
            ]
          },
          "metadata": {},
          "execution_count": 39
        },
        {
          "output_type": "stream",
          "name": "stdout",
          "text": [
            "time: 9.17 ms (started: 2024-01-18 13:46:19 +00:00)\n"
          ]
        }
      ]
    },
    {
      "cell_type": "code",
      "source": [
        "import xgboost as xgb\n",
        "\n",
        "# instantiate an XGB classifier that accounts for class imbalance\n",
        "xgb_model_all= xgb.XGBClassifier(scale_pos_weight=round(estimate, 1))\n",
        "\n",
        "xgb_model_all.fit(scaled_data, y)\n",
        "\n",
        "xgb_all_pred = xgb_model_all.predict(X_test_ss)\n",
        "\n",
        "xgb_all_acc = accuracy_score(y_test, xgb_all_pred)\n",
        "xgb_all_f1 = f1_score(y_test, xgb_all_pred)\n",
        "xgb_all_roc_auc = roc_auc_score(y_test, xgb_all_pred)\n",
        "\n",
        "\n",
        "print(f'Accuracy score of XGB Trained on entire data is {xgb_all_acc}', '\\n')\n",
        "print(f'ROC_AUC score of XGB Trained on entire data is {xgb_all_roc_auc}', '\\n')\n",
        "print(f'The f1 score of XGB Trained on entire data is {xgb_all_f1}', '\\n')\n",
        "print('The confusion matrix of XGB Trained on entire data is:', '\\n', f'{confusion_matrix(y_test, xgb_all_pred)}')"
      ],
      "metadata": {
        "colab": {
          "base_uri": "https://localhost:8080/"
        },
        "id": "2kPGBiE80qDu",
        "outputId": "2a5600e7-d4b2-4376-97f8-5c7c79a1ee9b"
      },
      "execution_count": null,
      "outputs": [
        {
          "output_type": "stream",
          "name": "stdout",
          "text": [
            "Accuracy score of XGB Trained on entire data is 0.818 \n",
            "\n",
            "ROC_AUC score of XGB Trained on entire data is 0.6644032551304317 \n",
            "\n",
            "The f1 score of XGB Trained on entire data is 0.48587570621468923 \n",
            "\n",
            "The confusion matrix of XGB Trained on entire data is: \n",
            " [[2196  141]\n",
            " [ 405  258]]\n",
            "time: 1.58 s (started: 2024-01-18 13:46:32 +00:00)\n"
          ]
        }
      ]
    },
    {
      "cell_type": "code",
      "source": [
        "#Save XGBoost MODEL\n",
        "dump(xgb_model_all, 'xgb_model.joblib')"
      ],
      "metadata": {
        "colab": {
          "base_uri": "https://localhost:8080/"
        },
        "id": "OmA_oOMO04Hi",
        "outputId": "c17354d2-4272-4fd3-d1d8-3b1dae68824f"
      },
      "execution_count": null,
      "outputs": [
        {
          "output_type": "execute_result",
          "data": {
            "text/plain": [
              "['xgb_model.joblib']"
            ]
          },
          "metadata": {},
          "execution_count": 41
        },
        {
          "output_type": "stream",
          "name": "stdout",
          "text": [
            "time: 7.74 ms (started: 2024-01-18 13:47:34 +00:00)\n"
          ]
        }
      ]
    },
    {
      "cell_type": "code",
      "source": [
        "#Testing with new real time data\n",
        "\n",
        "# load model\n",
        "loaded_model = load('xgb_model.joblib')\n",
        "\n",
        "# scale the input\n",
        "Raw_Data =  np.array([20000, 1, 5, 2, 22, 2, 0, 0, 0, 0, 0, 18565, 17204, 17285, 18085, 11205, 5982, 0, 1200, 1000, 500, 1000, 0]).reshape(1, -1)\n",
        "scaled_input = load_scaler.transform(Raw_Data)\n",
        "\n",
        "# check\n",
        "scaled_input\n"
      ],
      "metadata": {
        "colab": {
          "base_uri": "https://localhost:8080/"
        },
        "id": "2edBFJHx08kE",
        "outputId": "1383f8ae-5e82-4557-c67d-ca2bc9b503d4"
      },
      "execution_count": null,
      "outputs": [
        {
          "output_type": "stream",
          "name": "stderr",
          "text": [
            "/usr/local/lib/python3.10/dist-packages/sklearn/base.py:439: UserWarning: X does not have valid feature names, but StandardScaler was fitted with feature names\n",
            "  warnings.warn(\n"
          ]
        },
        {
          "output_type": "execute_result",
          "data": {
            "text/plain": [
              "array([[-1.11660622, -1.14852825,  4.24151706,  0.72187601, -1.343615  ,\n",
              "         1.64432408,  0.06600359,  0.09082222,  0.13611241,  0.17670503,\n",
              "         0.19333771, -0.43435383, -0.44056214, -0.42012906, -0.38309668,\n",
              "        -0.47182852, -0.54637014, -0.33881782, -0.20141616, -0.23669333,\n",
              "        -0.27339823, -0.2465062 , -0.29153948]])"
            ]
          },
          "metadata": {},
          "execution_count": 51
        },
        {
          "output_type": "stream",
          "name": "stdout",
          "text": [
            "time: 11.1 ms (started: 2024-01-18 14:06:42 +00:00)\n"
          ]
        }
      ]
    },
    {
      "cell_type": "code",
      "source": [
        "\n",
        "from joblib import load\n",
        "import numpy as np\n",
        "\n",
        "# Load the model\n",
        "loaded_model = load('xgb_model.joblib')\n",
        "\n",
        "# Scale the input (assuming you have a scaler saved as load_scaler)\n",
        "# Make sure load_scaler is defined before this point\n",
        "Raw_Data = np.array([20000, 1, 5, 2, 22, 2, 0, 0, 0, 0, 0, 18565, 17204, 17285, 18085, 11205, 5982, 0, 1200, 1000, 500, 1000, 0]).reshape(1, -1)\n",
        "scaled_input = load_scaler.transform(Raw_Data)\n",
        "\n",
        "# Check the scaled input\n",
        "print(scaled_input)\n",
        "\n",
        "# Get prediction result\n",
        "result = loaded_model.predict(scaled_input)\n",
        "\n",
        "print(result)\n",
        "\n",
        "# Assuming result is a 1D array (class labels), select the first element\n",
        "prediction = result[0]\n",
        "\n",
        "if prediction == 0:  # adjust based on your class labels\n",
        "    print('Defaulter')\n",
        "else:\n",
        "    print('Non-Defaulter')\n"
      ],
      "metadata": {
        "colab": {
          "base_uri": "https://localhost:8080/"
        },
        "id": "TSTZE_un1EKL",
        "outputId": "79fc9b70-dcf1-4645-fa7c-10e3073a6c83"
      },
      "execution_count": null,
      "outputs": [
        {
          "output_type": "stream",
          "name": "stdout",
          "text": [
            "[[-1.11660622 -1.14852825  4.24151706  0.72187601 -1.343615    1.64432408\n",
            "   0.06600359  0.09082222  0.13611241  0.17670503  0.19333771 -0.43435383\n",
            "  -0.44056214 -0.42012906 -0.38309668 -0.47182852 -0.54637014 -0.33881782\n",
            "  -0.20141616 -0.23669333 -0.27339823 -0.2465062  -0.29153948]]\n",
            "[1]\n",
            "Non-Defaulter\n",
            "time: 18.5 ms (started: 2024-01-18 14:10:11 +00:00)\n"
          ]
        },
        {
          "output_type": "stream",
          "name": "stderr",
          "text": [
            "/usr/local/lib/python3.10/dist-packages/sklearn/base.py:439: UserWarning: X does not have valid feature names, but StandardScaler was fitted with feature names\n",
            "  warnings.warn(\n"
          ]
        }
      ]
    }
  ]
}